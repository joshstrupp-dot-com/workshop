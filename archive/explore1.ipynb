{
 "cells": [
  {
   "cell_type": "code",
   "execution_count": 8,
   "metadata": {},
   "outputs": [
    {
     "name": "stdout",
     "output_type": "stream",
     "text": [
      "Processed sad_01.jpg\n",
      "New prompt: The image features a minimalist face made using simple characters, set against a solid blue background. The facial expression consists of two large, rounded eyes and a small, open mouth, which can convey a sense of innocence or curiosity.\n",
      "\n",
      "The overall emotional content appears playful and lighthearted. The configuration of the characters suggests a cute or whimsical demeanor, which may evoke feelings of happiness or joy. The absence of any harsh lines or complex features enhances this cheerful impression. \n",
      "\n",
      "Since the filename does not suggest a specific emotional tone, I describe it based on the visual elements alone.\n",
      "Processed sad_02.jpg\n",
      "New prompt: The image consists of a sequence of characters that conveys a facial expression. It features an emoticon-style representation that suggests a confused or frustrated emotional state. The combination of characters—specifically the use of symbols like \"#\" and the expression \"<\"—creates a visually distinct expression that may evoke feelings of irritation or bewilderment. \n",
      "\n",
      "There are no indications in the file name that suggest happiness or sadness, so the focus remains on the confused emotional content portrayed through the characters.\n",
      "Processed sad_03.jpg\n",
      "New prompt: The image features a cute emoticon depicting a surprised expression. The character's wide circular eyes and an open mouth suggest surprise or shock, giving it a lively and engaging emotional content. The upturned hands mimic an open gesture, which can imply curiosity or an invitation to interact. \n",
      "\n",
      "Since the file name does not contain \"happy\" or \"sad,\" I won't include that in the description, but the overall vibe leans towards a whimsical and expressive feeling.\n",
      "Processed sad_04.jpg\n",
      "New prompt: The image features a simple, minimalist design with a soft pink background. The facial expression is characterized by two horizontal lines representing closed eyes and a wide, downward-curved line for a mouth, conveying a sense of sadness or disappointment. The overall emotional content suggests a feeling of gloom or melancholy, emphasizing a subdued mood. The use of simple shapes and lines contributes to the clarity of the expression, making it easily recognizable as one of sadness. The file contains \"sad,\" which aligns with the emotional content presented in the image.\n",
      "Processed sad_05.png\n",
      "New prompt: The image you provided appears to be a simple graphic representation, potentially depicting a facial expression. There are no specific details available regarding the emotional content or facial expression due to the nature of the image. If the file name contained \"happy\" or \"sad,\" it would influence the interpretation, but without that context, I cannot ascertain the emotional tone of the expression. If you'd like to share any specific details or context, I'd be happy to help further!\n",
      "Processed sad_06.jpg\n",
      "New prompt: The image features a stylized text representation of an emoticon, rendered in a bright green color against a light background. The emoticon appears to embody a neutral or uncertain expression, signified by a combination of characters. The eyes are represented by larger green dots, while the mouth takes the form of a dash and a diagonal line, giving it a somewhat ambiguous appearance.\n",
      "\n",
      "This design suggests a feeling of hesitation or mild confusion rather than clear happiness or sadness. The choice of green adds a sense of vibrancy, but it doesn't convey strong emotional content on its own. Overall, the emoticon expresses a subtle complexity, capturing a moment of indecisiveness or contemplation.\n",
      "Processed sad_07.png\n",
      "New prompt: The image features a simple, cartoonish figure with a round head and a small, pudgy body. The figure has large, expressive eyes that are exaggerated in size, conveying a strong sense of emotion. The eyes appear to be glistening, likely representing tears, and there are two distinct streams of blue water flowing down the cheeks, indicating sadness. The figure is also depicted sitting in a pool of the same blue water, further emphasizing its emotional state.\n",
      "\n",
      "The overall composition suggests a feeling of vulnerability and despair, with the figure's body language being subdued, as it seems to be slumped forward slightly. The simplicity of the lines and the minimal color palette contribute to a childlike, yet poignant depiction of sadness.\n",
      "Processed sad_08.png\n",
      "New prompt: The image features a simple, cartoonish face drawn with thick black lines. The facial expression appears to convey sadness. The character has large, round eyes, with tears streaming down each cheek, suggested by the blue streaks beneath the eyes. The mouth is in a neutral position, neither smiling nor frowning, which adds to the overall sad emotion of the expression. The simplicity of the design emphasizes the emotional content, making it immediately recognizable as a representation of sorrow.\n",
      "Processed sad_09.jpg\n",
      "New prompt: The image presents a simple, recognizable emoticon—a sad face. The yellow circular face displays a frown, characterized by downturned lips that curve into a slight arc, conveying a sense of disappointment or sorrow. The eyes are two small, round dots that lack expression, enhancing the feeling of sadness. The bright green background contrasts sharply with the yellow face, making the expression stand out even more. Overall, the image evokes a feeling of melancholy, reflecting emotions typically associated with sadness.\n",
      "Processed sad_10.jpg\n",
      "New prompt: The image features an emoji with a prominent facial expression conveying sadness. It displays a round, yellow face with downturned eyes that are partially squinted, suggesting disappointment or sorrow. The eyebrows are thick and tilted downwards, emphasizing the overall feeling of distress. The mouth is shaped into a frown, further reinforcing the emotional content of sadness. The cheeks show a slight blush, adding to the expression's authenticity and depth of feeling. Overall, the emoji communicates a strong sentiment of being upset or dejected. \n",
      "\n",
      "The file name suggests that this image is associated with a 'sad' emotion.\n",
      "Processed sad_11.jpg\n",
      "New prompt: The image features a minimalist design with a simple representation of a face. The upper portion shows two small, upward-curved features resembling eyes, positioned above a subtle, elongated curve that suggests a smiling mouth. This combination creates a cheerful or content expression, inviting a sense of positivity or lightheartedness.\n",
      "\n",
      "The background is predominantly light, contrasting with a darker section at the bottom, which gives the image depth. The overall emotional content conveyed here is one of happiness and calmness, evoking a sense of warmth and comfort. The facial features, though abstract, effectively communicate a positive emotional state. \n",
      "\n",
      "If the file name contains \"happy,\" it perfectly aligns with the smiling facial expression depicted in the artwork.\n",
      "Processed sad_12.jpg\n",
      "New prompt: The image features a simple, cartoon-style face rendered in black on a white background. The expression conveys a sense of sadness or disappointment. The eyes are depicted as two large, round shapes, with one slightly squinting, suggesting a furrowed brow or a glare. Above the eyes, there are two curved lines that represent eyebrows drawn downwards, enhancing the impression of distress. The mouth is drawn in a downward curve, reinforcing the emotional content of sadness. Overall, the facial expression communicates a clear sense of melancholy or unease. \n",
      "\n",
      "Since the image conveys a sad expression, it matches the emotional context suggested by the title.\n",
      "Processed sad_13.jpg\n",
      "New prompt: The image features a cartoonish yellow face with a shocked or surprised expression. The eyes are large and wide, enhancing the feeling of astonishment, with a glossy appearance that gives them a lifelike quality. The mouth is open in a round shape, suggesting a gasp or exclamation. The eyebrows are raised, further contributing to the expression of surprise or concern. The overall color palette is bright and vibrant, evoking a sense of playfulness despite the emotional content. There are no elements in the file name to indicate happiness or sadness, so the description focuses solely on the surprised facial expression.\n",
      "Processed sad0001.png\n",
      "New prompt: The image displays an emoji with a round, yellow face characterized by downturned eyebrows and a frown, conveying feelings of sadness or disappointment. The cheeks are slightly puffed, enhancing the expression of sorrow. The colors are bright, yet the expression evokes a sense of gloom, emphasizing an emotional state of being upset or feeling low. The overall appearance is simple yet effective in communicating a melancholic sentiment. Since the file name contains 'sad', this further reinforces the emotional content depicted in the image.\n",
      "Processed sad0002.png\n",
      "New prompt: The image shows a classic yellow emoticon with a frown. The circular face has two small, round eyes that convey a sense of sadness or disappointment. The downturned mouth is pronounced, emphasizing the overall expression of unhappiness. This emoticon evokes feelings of sorrow or discontent, effectively communicating a negative emotional state. The use of simple, bold lines helps to enhance the clarity of the expression. Overall, the image captures a feeling of sadness.\n",
      "Processed sad0003.png\n",
      "New prompt: The image depicts a yellow emoji with a facial expression that conveys a sense of discomfort or unease. The eyes are tightly squinted, and the mouth is drawn in a zigzag shape, suggesting a feeling of distress or confusion. This expression often indicates a reaction to something unpleasant or frustrating, rather than happiness or sadness. The overall emotional content reflects a state of stress or agitation, which can be interpreted as a visual representation of feeling overwhelmed.\n",
      "Processed sad0004.png\n",
      "New prompt: The image depicts a yellow emoji with a distressed expression. The eyes are closed tightly, conveying a sense of deep sorrow or frustration, while the mouth is downturned in a frown, further emphasizing the emotion of sadness. The overall effect is one of exasperation or disappointment, capturing a feeling of overwhelming emotion. The vivid colors enhance the emotional weight of the expression, making it visually striking.\n",
      "Processed sad0005.png\n",
      "New prompt: The image depicts a yellow emoji with a downturned mouth and eyes that are half-closed, conveying a strong sense of sadness or disappointment. The facial expression features crinkled brows, enhancing the emotional weight, suggesting a feeling of distress or unhappiness. The overall tone of the emoji communicates a deep sense of sorrow or despair. Since the file name suggests a sad expression, it reinforces this emotional interpretation.\n",
      "Processed sad0006.png\n",
      "New prompt: The image depicts an emoji characterized by a round yellow face with downturned eyebrows and a subtle frown. The eyes are closed, suggesting a sense of resignation or sadness. The overall expression conveys a feeling of disappointment or melancholy, reflecting an emotional state that leans towards being downcast. The simplicity of the design enhances the emotional weight, making it easily recognizable as symbolizing a sad or reflective mood.\n",
      "Processed sad0007.png\n",
      "New prompt: The image depicts a yellow emoji with a downturned mouth and raised eyebrows, expressing a sense of sadness or disappointment. The facial features convey a strong emotion, characterized by the subtle furrow of the brows and the frown, which together create a relatable expression of concern or distress. The overall appearance evokes feelings of sympathy or empathy, inviting viewers to connect with the emotional state represented.\n",
      "Processed sad0008.png\n",
      "New prompt: The image depicts a yellow emoji with a pained expression, featuring downturned eyebrows and eyes that appear to be squinting or closed in distress. The mouth is frowning, emphasizing a sense of discomfort or sadness. The overall effect conveys strong emotional content, suggesting feelings of frustration or sorrow. Given the expression, it captures a mood that is quite heavy and somber.\n",
      "Processed sad0009.png\n",
      "New prompt: The image depicts a yellow emoji with large, pleading eyes that convey a deep sense of sadness or longing. The eyebrows are drawn upwards, which enhances the emotional appeal, giving a subtle indication of vulnerability. The mouth is in a small, frowning position, further emphasizing the emotion of distress or disappointment. The overall expression is one that evokes empathy, making the viewer feel compelled to respond with care or concern. The image clearly communicates a strong emotional content related to sadness.\n",
      "Processed sad0010.png\n",
      "New prompt: The image depicts a sad face emoji. Its expression features a frowning mouth and large, round eyes that convey a sense of sorrow or disappointment. A single teardrop hangs from one cheek, enhancing the emotional impact of the expression. The overall color scheme is bright yellow, which contrasts with the sadness portrayed, making the emotion more pronounced. This imagery effectively communicates feelings of sadness or distress.\n",
      "Processed sad0011.png\n",
      "New prompt: The image depicts a character with a melancholic expression. The eyes are wide and convey a sense of sadness, while the mouth is downturned, indicating distress or unhappiness. The character has short black hair and a neutral-colored shirt, which contributes to the overall somber tone. The emotional content of this image suggests feelings of disappointment or loneliness.\n",
      "Processed sad0012.png\n",
      "New prompt: The image features a tearful emoji, characterized by a round, yellow face. It has an expression of deep sadness, emphasized by the large eyes that are squinting slightly and overflowing with tears. The mouth is open in a frown, conveying a strong sense of distress or sorrow. This emoji evokes emotions of heartbreak or sorrow, capturing a poignant moment of sadness. The overall impression is that of someone who is overwhelmed with emotion, likely expressing feelings of grief or disappointment.\n",
      "Processed sad0013.png\n",
      "New prompt: The image depicts a yellow face with a sad expression. The eyebrows are arched downwards, indicating concern or sorrow. The mouth is turned down in a frown, further emphasizing the emotion of sadness. A single blue tear is depicted below one eye, reinforcing feelings of disappointment or distress. Overall, the facial expression conveys a deep sense of melancholy and vulnerability. The image embodies a poignant emotional content, evoking empathy from viewers.\n",
      "Processed sad0014.png\n",
      "New prompt: The image depicts a broken heart symbol, characterized by its vivid red color and a distinct crack running through the center. This imagery is often associated with feelings of sadness or heartache. The sharp edges and the split in the heart suggest emotional pain or a sense of loss, evoking a strong empathetic reaction. The overall appearance of the broken heart conveys a clear message of sorrow or disappointment, resonating with the universal theme of heartbreak.\n",
      "Processed sad0015.png\n",
      "New prompt: The image shows a graph with a blue line that trends downward in a zigzag pattern against a grid background. There are no facial expressions or emotional content evident in the image, as it depicts a data visualization rather than a human or character. The downward trend of the line may suggest a negative performance or decline in some measured variable, which could evoke feelings of concern or disappointment if interpreted within a broader context. However, these interpretations are not based on any emotional expressions in the image itself.\n",
      "Processed sad0016.png\n",
      "New prompt: The image depicts a cloud with a thunderbolt and raindrops, suggesting a stormy or rainy atmosphere. The cloud is fluffy and white, while the yellow lightning bolt adds a sense of intensity. The blue raindrops imply precipitation, further enhancing the stormy emotion. Overall, the scene conveys feelings associated with gloomy weather, such as unease or melancholy. There are no facial expressions present as it is not a human image.\n",
      "Processed sad0017.png\n",
      "New prompt: I'm unable to recognize or describe images directly. If you have any specific questions or need information on a different topic, feel free to ask!\n",
      "Processed sad0018.png\n",
      "New prompt: The image features an emoji-like character with a yellow face, short, light-colored hair, and a neutral gray shirt. The facial expression conveys sadness or concern. The character's large, round eyes are downturned, reflecting a sense of worry or distress. The mouth is slightly curved downward, adding to the overall expression of sadness. This depiction evokes feelings of empathy or compassion from viewers.\n",
      "Processed sad0019.png\n",
      "New prompt: The image depicts a blonde-haired character with a serious expression. Their brows are slightly furrowed, conveying a sense of contemplation or discontent. The eyes, a warm brown, appear somewhat downcast, suggesting a mood that leans towards sadness or disappointment. The character's mouth is closed in a neutral line, without a smile, reinforcing the overall emotional tone of seriousness or concern. The gray shirt adds to the subdued nature of the expression. Overall, the character's demeanor communicates a sense of introspection or emotional heaviness.\n",
      "Processed sad0020.png\n",
      "New prompt: The image depicts a cat emoji with a sad expression. Its wide, round eyes convey a sense of distress or sorrow, while the downward curve of its mouth emphasizes its sadness. A single blue tear is seen falling from one eye, further enhancing the emotional weight of the expression. The overall appearance of the cat suggests a feeling of disappointment or sadness, evoking empathy from the viewer.\n",
      "Processed sad0021.png\n",
      "New prompt: The image depicts a yellow emoji with a downturned mouth and creased eyes, conveying a sense of sadness or disappointment. Above its head, there’s a single blue drop of sweat, suggesting feelings of stress or concern. This combination of facial features communicates a relatable emotional state, indicating that the character is experiencing some distress, frustration, or anxiety. Overall, the emoji embodies a tone of melancholy or unease.\n",
      "Processed happy_01.jpg\n",
      "New prompt: The image features a minimalist design with a solid blue background. Central to the composition are abstract shapes that suggest facial elements, particularly resembling a playful, whimsical face. The facial representation includes two curved lines that suggest raised eyebrows, giving a sense of liveliness. Below, a simple inverted triangle acts as a mouth, suggesting a smile or playful expression. \n",
      "\n",
      "Overall, the expression conveyed by these elements radiates positivity and light-heartedness. The choice of bright pink accents against a blue backdrop enhances the cheerful emotional content, making it feel engaging and fun. The design appears to embody a happy sentiment, evoking a sense of joy and friendliness.\n",
      "Processed happy_02.jpg\n",
      "New prompt: The image appears to be a simple text-based emoticon, featuring a stylized representation of a face. The eyes are represented with curved lines, giving it a somewhat playful and lighthearted look. The mouth is depicted as an inverted triangle, which may suggest a neutral or slightly mischievous expression.\n",
      "\n",
      "Without a file name containing 'happy' or 'sad,' the emotional content here is ambiguous, but the overall design can evoke a sense of curiosity or amusement. The basic shapes and minimalistic style contribute to a light-hearted but unclear emotional context.\n",
      "Processed happy_03.jpg\n",
      "New prompt: The image features a minimalist face created using simple shapes. The eyes are represented by two curved lines positioned horizontally, suggesting a calm and relaxed demeanor. Below, a narrow triangle serves as the nose, and a small line underneath could represent a mouth. The overall composition gives off a neutral or content vibe. \n",
      "\n",
      "There are no elements in the file name indicating 'happy' or 'sad,' so no additional context from that perspective is applied here. The design conveys a serene or placid emotional tone.\n",
      "Processed happy_04.jpg\n",
      "New prompt: The image consists of a simple emoticon depicting a facial expression characterized by raised eyebrows and a slight smile, giving an overall impression of a neutral or slightly playful emotion. Its simplicity evokes a sense of lightheartedness and approachability. \n",
      "\n",
      "If the file name contained \"happy,\" this would emphasize a joyful or cheerful emotional content, while if it had \"sad,\" it would suggest a more subdued or melancholic feeling. However, without knowing the file name, it remains an open expression that could be interpreted in various ways depending on context.\n",
      "Processed happy_05.jpg\n",
      "New prompt: The image features a minimalist, stylized facial expression created using symbols. It consists of a curved line representing a smile, flanked by stars that suggest a sense of joy or excitement. The overall effect communicates a cheerful and positive emotional content, evoking feelings of happiness. The stars add a playful and whimsical touch, amplifying the joyful expression.\n",
      "Processed happy_06.jpg\n",
      "New prompt: The image features a minimalistic and abstract representation of a face created using simple shapes and colors. The background is a soft peach, which contrasts with the bold purple lines that depict the facial features. \n",
      "\n",
      "The eyes are represented by two horizontal lines with curved edges, suggesting a relaxed or indifferent expression. Below the eyes, a small, upward triangular shape functions as a nose. The mouth is formed with two curved lines that dip down, giving an impression of sadness or disappointment.\n",
      "\n",
      "Overall, this design conveys a sense of melancholy or introspection through its understated features and color scheme.\n",
      "Processed happy_07.jpg\n",
      "New prompt: The image depicts a simple, stylized smiley face. The facial expression is cheerful, characterized by a broad smile and wide eyes. The smile is slight and conveys a sense of happiness or contentment. The colors used are vibrant, with a mix of green and purple outlines, enhancing the playful and positive emotional tone of the face. \n",
      "\n",
      "Since the file name contains 'happy', this further emphasizes the joyful expression the smiley face portrays. Overall, the image evokes a sense of warmth and positivity.\n",
      "Processed happy_08.jpg\n",
      "New prompt: The image features a large, round green face with exaggerated facial features. The eyes are large and expressive, showcasing vibrant, circular pupils surrounded by a dark rim and a bright green iris, giving a sense of excitement or joy. The mouth is wide and adorned with a broad, toothy smile, which conveys a feeling of happiness and contentment. The upward curve of the mouth suggests positivity and friendliness. \n",
      "\n",
      "The overall expression, characterized by the combination of the smiling mouth and bright eyes, projects a playful and cheerful emotion. The background is a muted dark gray, which contrasts with the bright green of the face, making the emotional expression stand out even more. \n",
      "\n",
      "Since the file name contains \"happy,\" it reinforces the joyful and lighthearted vibe of this character.\n",
      "Processed happy_09.jpg\n",
      "New prompt: The image features a whimsical, cartoonish character with a round, vibrant green face. The character has large, expressive eyes that glow with a bright green hue, conveying a lively and playful energy. Their wide grin reveals a set of oversized, exaggerated teeth, giving off a cheerful and approachable vibe. The combination of the bright colors and the character's smiling expression suggests a sense of joy and happiness.\n",
      "\n",
      "The overall impression is one of friendliness and lightheartedness, making it seem like a character that could bring about good cheer and fun.\n",
      "Processed happy_10.png\n",
      "New prompt: The image features a simple, stylized emoticon displaying a cheerful facial expression. The eyes are circular with a slight upward curve that suggests happiness or playfulness. The mouth is also curved upward, further emphasizing a joyful demeanor. \n",
      "\n",
      "The overall impression conveyed by this emoticon is one of lightheartedness and positivity. The rounded shapes and gentle curves contribute to a sense of warmth and friendliness. The design is minimalist, enabling the emotional content to stand out clearly. \n",
      "\n",
      "Since the file name does not contain \"happy\" or \"sad,\" no additional context based on the filename is applicable.\n",
      "Processed happy_11.png\n",
      "New prompt: The image features a cartoonish ghost with a playful expression. It has one big, round eye and a winking eye, giving it a cheeky demeanor. The mouth is wide open in a smile, showing a playful pink tongue sticking out. The ghost seems to be in a lighthearted mood, with its arms raised in a welcoming manner, as if inviting a fun interaction. The overall emotional content is happy and whimsical, suggesting joy and mischief. The file name suggests a cheerful theme.\n",
      "Processed happy_12.jpg\n",
      "New prompt: The image features a simple, stylized smiley face against a dark background. The face is composed of two small white dots representing the eyes and a curved line forming a smile. The overall expression conveys a sense of happiness or cheerfulness, albeit in a minimalistic manner. However, below the smile, a phrase suggests a deeper emotional context, hinting at the complexities of pain and happiness. This juxtaposition evokes a contemplative mood, contrasting the outward expression of joy with an underlying sense of struggle or sadness.\n",
      "\n",
      "Given the simplicity and upbeat appearance of the smiley, there’s a paradoxical quality that invites viewers to reflect on the nature of emotions.\n",
      "Processed happy_13.png\n",
      "New prompt: The image features a classic smiley face emoji characterized by a bright yellow color. Its facial expression radiates happiness, conveyed through a wide, gently curved smile. The eyes are large and round, giving a cheerful appearance, while rosy cheeks indicate warmth or friendliness. Overall, the emoji exudes a lighthearted and positive emotional content, suggesting joy and contentment. Since the file name likely contains \"happy,\" this reinforces the positive sentiment expressed by the emoji.\n",
      "Processed happy_14.png\n",
      "New prompt: The image features a simple, round purple smiley face with a broad, cheerful smile and two black, oval eyes. This design exudes a sense of friendliness and positivity. The smiling mouth suggests happiness and a lighthearted emotion, inviting a warm reaction from viewers. The vibrant purple color adds a playful twist to the traditional yellow smiley face, enhancing its cheerful and upbeat vibe. Given the context of the smiley face, the emotional content is undoubtedly one of joy and playfulness.\n",
      "Processed happy_15.png\n",
      "New prompt: The image features a bright yellow smiley face emoji, characterized by its round shape and glossy finish. The facial expression is one of joy, highlighted by the wide smile that showcases a sense of happiness. The eyes are animated with a playful glint, and the cheeks are portrayed with small circular features, suggesting a friendly and inviting demeanor. This smiley face embodies a cheerful emotional content, conveying positivity and warmth. The overall impression is one of delight and friendliness, making it an instantly uplifting symbol.\n",
      "Processed happy_16.jpg\n",
      "New prompt: The image features several smiling yellow emoticons against a vibrant orange background. Each face has a cheerful expression, characterized by round shapes, wide smiles, and bright, inviting eyes. The presence of pink blush marks on some of the cheeks adds a playful touch, enhancing the overall happy theme. The arrangement of these emoticons, seemingly floating or scattered, contributes to a joyful and lively atmosphere. The dominant cheerful expressions convey feelings of happiness and positivity. \n",
      "\n",
      "Since the content of the image and its context suggest a joyful sentiment, it reflects a carefree and happy mood.\n",
      "Processed happy_17.jpg\n",
      "New prompt: The image features a bright yellow smiley face, characterized by its large, round shape. The facial expression is one of joy and happiness, highlighted by a wide grin that stretches from side to side. The mouth is a pronounced red hue, contrasting against the yellow of the face, and the eyes are large and glossy, providing a playful and cheerful appearance. The overall emotional content exudes positivity and warmth, inviting a sense of happiness and friendliness. Since the filename contains \"happy,\" this further emphasizes the joyful theme of the image. The background is muted, helping the smiley face to stand out vividly.\n",
      "Processed happy_18.jpg\n",
      "New prompt: The image features a bright green smiley face with a blue outline. The overall design is simplistic yet expressive, conveying a sense of happiness and positivity. The smile itself is wide and inviting, characterized by a gentle upward curve that suggests cheerfulness. The two eyes are depicted as small ovals, positioned to give the face an adorable and friendly demeanor. The vibrant colors enhance the feeling of joy, making it a quintessential representation of happiness. The file name includes 'happy', reinforcing the cheerful emotional content of the image.\n",
      "Processed happy_19.png\n",
      "New prompt: The image features a cartoonish, exaggerated facial expression characterized by a broad, joyful smile. The mouth is wide open, showcasing a full set of bright, white teeth. The eyes are squinted, contributing to the overall feeling of happiness, giving a sense that the facial features are relaxed and content. There are creases around the eyes and mouth, indicating warmth and genuine amusement.\n",
      "\n",
      "The color palette includes vibrant yellow for the face, enhancing the cheerful tone. The overall impression conveyed by this expression is one of extreme joy and friendliness.\n",
      "\n",
      "Given the context, this description aligns with a depiction that might be labeled \"happy.\"\n",
      "Processed happy0001.png\n",
      "New prompt: The image features a playful emoji with a bright yellow background. The emoji has squinted eyes and a wide, mischievous grin, showcasing a feeling of delight or cheekiness. Its tongue is sticking out, adding to the light-hearted and fun emotional tone. This expression conveys a sense of enjoyment, as if the emoji is teasing or engaging in a playful moment. The overall vibe is one of happiness and carefree joy.\n",
      "Processed happy0002.png\n",
      "New prompt: The image features a yellow smiley face emoji with a peaceful expression. The eyes are closed in a gentle, contented manner, while the mouth forms a soft smile. The cheeks are slightly flushed, conveying warmth and happiness. This expression radiates a sense of calm and joy, suggesting feelings of satisfaction or contentment. Its overall design evokes a cheerful and comforting emotional tone.\n",
      "Processed happy0003.png\n",
      "New prompt: The image depicts a cheerful emoji with a wide, beaming smile, reflecting a sense of excitement and joy. The facial features include large, sparkling eyes represented by stars, which convey awe or admiration. The overall expression exudes a feeling of happiness and enthusiasm, indicating a positive emotional state. The vibrant yellow background enhances the joyful atmosphere of the emoji, making it feel lively and engaging.\n",
      "Processed happy0004.png\n",
      "New prompt: The image features a playful, yellow emoji with a facial expression that conveys affection and flirtation. Its eyes are slightly squinted, suggesting a teasing or cheeky demeanor. The emoji is also puckering its lips as if about to blow a kiss, adding to the playful tone. Accompanying this expression is a red heart, which enhances the emotional content, implying love or deep affection. Overall, the image radiates warmth and positivity, evoking feelings of love and light-heartedness.\n",
      "Processed happy0005.png\n",
      "New prompt: The image features a classic smiley face. It has a bright yellow round shape with two large, circular eyes and a wide, open-mouthed smile that reveals a cheerful expression. The facial expression conveys feelings of joy and positivity. The simplicity of the design adds to its upbeat emotional content, making it instantly recognizable as a symbol of happiness. Since the image is associated with a happy emotion, it radiates warmth and friendliness.\n",
      "Processed happy0006.png\n",
      "New prompt: The image depicts a cheerful emoji characterized by its bright yellow color, a wide, smiling mouth, and two raised eyebrows. The eyes are shaped like open circles, which contributes to a sense of joy and happiness. The overall expression conveys a strong feeling of positivity and friendliness. This expression is often used to signify happiness and good cheer.\n",
      "Processed happy0007.png\n",
      "New prompt: The image features a smiling yellow emoji with heart-shaped eyes and blushing cheeks. The eyebrows are slightly raised and curved, enhancing the expression of joy and affection. The closed smile suggests a warm, content feeling, while the floating red hearts around the face signify love or strong affection. \n",
      "\n",
      "Overall, the emotional content conveys happiness and warmth, suggesting a sense of love or appreciation. The expression is inviting and cheerful, reflecting a positive emotional state. Since the file name contains \"happy,\" it aligns perfectly with the joyful theme of the emoji.\n",
      "Processed happy0008.png\n",
      "New prompt: The image features a smiling emoji characterized by a broad grin. The eyes are curved in a way that suggests happiness, resembling half-moons. The mouth is open, showcasing a set of teeth, which adds to the joyful expression. The overall appearance is bright and inviting, evoking a sense of warmth and positivity. This emoji conveys an uplifting emotional content, embodying feelings of joy and contentment. The file name suggests a happy theme, reinforcing the cheerful nature of the expression depicted.\n",
      "Processed happy0009.png\n",
      "New prompt: The image depicts a bright yellow smiley face emoji with a broad, cheerful grin. Its eyes are represented by simple, upward-turned curves, adding to the joyful expression. The wide smile reveals full, white teeth, conveying a sense of happiness and warmth. This particular emoji embodies feelings of joy, positivity, and friendliness. The happiness conveyed is infectious and likely aims to evoke a sense of cheer in those who see it.\n",
      "Processed happy0010.png\n",
      "New prompt: The image depicts a smiling emoji with closed eyes and a wide, joyful grin. The eyes are crinkled, suggesting that the character is experiencing a moment of pure happiness or laughter. The cheerful expression conveys a sense of delight and positivity, evoking feelings of joy and lightheartedness. The bright yellow background enhances the overall uplifting mood of the image, making it feel vibrant and energetic. This aligns with the emotional content often associated with happiness.\n",
      "Processed happy0011.png\n",
      "New prompt: The image features a smiling emoji with a wide grin, conveying a sense of happiness and contentment. The eyes are shaped in a way that suggests joy, adding to the positive emotion. A small bead of sweat on the forehead indicates a touch of relief or light nervousness, suggesting that while the expression is joyful, there might also be a hint of vulnerability. Overall, the emoji embodies a cheerful and slightly anxious emotional state, combining happiness with a sense of being overwhelmed yet pleased. The file name implies a happy sentiment, which aligns with the expression portrayed.\n",
      "Processed happy0012.png\n",
      "New prompt: The image depicts a yellow smiley face emoji with a broad smile, showcasing a sense of joy and amusement. The eyes are formed as closed crescents, enhancing the expression of happiness. Tear-like droplets are falling from each eye, indicating laughter to the point of tears. The overall emotional content conveys a strong sense of joy and lightheartedness, capturing the essence of a genuinely funny or delightful moment. Since the image conveys a feeling of happiness, it aligns with a 'happy' theme.\n",
      "Processed happy0013.png\n",
      "New prompt: The image depicts a yellow smiley face emoji, characterized by a broad, joyful grin that reveals white teeth. The eyes are squinting in delight, suggesting a deep sense of amusement, while tears of laughter are spilling from the corners of the eyes, indicating an overwhelming reaction to something funny. The overall expression conveys intense happiness and joy, embodying a lighthearted and playful emotional state. \n",
      "\n",
      "The file name, which suggests a connection to happiness, reinforces the cheerful and humorous nature of this emoji.\n",
      "Processed happy0014.png\n",
      "New prompt: The image features a smiling emoji with closed eyes and a content expression. The mouth is curved upward in a joyful smile, and there's a pink tongue playfully sticking out to the side, suggesting delight or satisfaction, possibly related to food or a pleasant experience. The overall round, bright yellow face conveys a cheerful and light-hearted emotion, evoking feelings of happiness and enjoyment. The expression is universally recognizable as a sign of positive emotions and pleasure.\n",
      "Processed happy0015.png\n",
      "New prompt: The image features a classic smiley face emoji, which conveys a sense of happiness and positivity. The face is round and bright yellow, with two simple black eyes that are circular, adding to the cheerful expression. The mouth is curved into a gentle smile, radiating warmth and friendliness. This emoji effectively communicates a joyful and lighthearted emotion, making it suitable for expressing happiness or a positive sentiment. \n",
      "\n",
      "Given that the visual representation aligns with the concept of \"happy,\" it reinforces the emotional content of joy and contentment.\n",
      "Processed happy0016.png\n",
      "New prompt: The image shows a joyful emoji with a bright yellow face, closed eyes, and a wide smile. It wears a festive party hat adorned with a pink and blue strip, alongside colorful confetti around it. The emoji is also blowing a party horn, which adds an element of celebration. Overall, the expression conveys happiness and excitement, perfect for festive occasions or celebrations.\n",
      "Processed happy0017.png\n",
      "New prompt: The image features an emoji with a bright yellow face, characterized by large, expressive eyes that are white with black pupils, conveying a sense of warmth and affection. The mouth curves into a gentle smile, and there are tears of joy glistening at the corners of the eyes, suggesting a deep emotional resonance. This expression conveys a mix of happiness and sentimentality, often associated with moments of love, gratitude, or overwhelming joy. The overall emotional content is one of tender heartfelt feelings, giving a sense of positivity and kindness.\n",
      "Processed happy0018.png\n",
      "New prompt: The image features a playful emoji characterized by a round, bright yellow face. It has a broad, cheerful smile, with eyes that appear to be closed or relaxed, contributing to a lighthearted expression. The tongue is playfully sticking out, indicating a sense of humor or mischief. Overall, the emotional content conveyed is one of happiness and playfulness, suggesting a carefree attitude or a fun moment.\n",
      "Processed happy0019.png\n",
      "New prompt: The image features a cheerful emoji with a bright yellow face and a gentle smile. Its eyes are closed in a joyful expression, conveying a sense of contentment and happiness. The emoji is adorned with a blue halo, suggesting a playful or angelic quality to its demeanor. The overall emotional content of the image radiates positivity and lightheartedness, creating an uplifting atmosphere. Since the description includes a happy vibe, it aligns well with the cheerful nature of the emoji.\n",
      "Processed happy0020.png\n",
      "New prompt: The image features a cheerful yellow emoji with a broad, gentle smile and closed eyes that convey a sense of warmth and happiness. The cheeks are subtly blushed, enhancing the wholesome and friendly expression. This emoji clearly communicates feelings of joy, contentment, or a lighthearted spirit. The overall design, with its simple yet effective expression, evokes a comforting and uplifting emotional response, aligning with the file name containing 'happy.'\n",
      "Processed happy0021.png\n",
      "New prompt: The image depicts a cheerful emoji with a bright yellow face. Its eyes are represented as hearts, which conveys a sense of love, affection, or admiration. The mouth is curved into a wide, joyful smile, further enhancing the overall emotional content of happiness and delight. The expression suggests a feeling of being enamored or excited, making it a perfect representation of joy in a romantic or endearing context.\n",
      "Processed happy0022.png\n",
      "New prompt: The image features a cheerful emoji with a wide, friendly smile and closed eyes that suggest warmth and contentment. The cheeks are slightly flushed, adding to the overall sense of joy. It has two hands extended outward, symbolizing a welcoming or embracing gesture. This expression radiates happiness and positivity, inviting feelings of friendliness and openness. The image conveys an emotional tone of delight and affection.\n",
      "Processed happy0023.png\n",
      "New prompt: The image depicts a smiling emoji with rosy cheeks, conveying a sense of joy and lightheartedness. Its eyes are closed in a way that suggests amusement or delight. A hand is placed over its mouth, which often indicates a playful or shy demeanor, as if the emoji is trying to contain its laughter or surprise at something funny or endearing. The overall emotional content reflects a happy and cheerful expression, suggesting a jovial atmosphere or a light moment of joy.\n",
      "Processed happy0024.png\n",
      "New prompt: The image features a clown face emoji characterized by a wide, cheerful smile that conveys a sense of happiness and playfulness. The clown has bright red hair and a round red nose, which adds a whimsical touch. Its large blue eyes are wide open, enhancing the joyful expression. The overall design evokes a lighthearted and entertaining vibe, suggesting feelings of joy and amusement.\n",
      "Processed happy0025.png\n",
      "New prompt: The image features a cartoonish emoji representation of a pile of poop. It has a brown, curved shape with a smooth texture, topped with a swirl. The facial expression consists of large, white, round eyes that convey a sense of joy or playfulness. Beneath the eyes is a wide, cheerful smile, which suggests a lighthearted or humorous emotion. The overall look of the emoji is whimsical and comical, evoking a sense of fun rather than any negative feelings. The file name suggests a happy context.\n",
      "Processed happy0026.png\n",
      "New prompt: The image depicts a cheerful, cartoonish cat face emoji. Its bright yellow color exudes a sense of joy and playfulness. The large, round eyes are gleaming, contributing to an overall expression of happiness. The cat has a wide, toothy smile that showcases its playful demeanor, accompanied by prominent whiskers that add to its animated charm. This emoji radiates an upbeat and friendly emotional content, capturing a lighthearted and joyful essence. The file name contains 'happy,' which reinforces this cheerful tone.\n",
      "Processed happy0027.png\n",
      "New prompt: The image features a cartoon cat face with a bright yellow color. Its mouth is wide open in a joyful smile, conveying a sense of happiness and excitement. The most striking aspect is the cat's large, heart-shaped eyes, which suggest overwhelming affection or admiration. The ears are pointy and upright, adding to the animated and cheerful nature of the expression. Overall, the emotional content of the image radiates love and delight, clearly indicating a happy sentiment.\n",
      "Processed happy0028.png\n",
      "New prompt: The image features a cheerful cat emoji, characterized by its broad, happy smile and wide, gleaming eyes. The cat's expression radiates joy and playfulness, with its mouth open in a wide grin, showcasing its sharp teeth, which adds to the playful demeanor. The ears are perked up, suggesting an alert and lively attitude. This joyful facial expression conveys a sense of happiness and excitement, likely resonating with feelings of fun and lightheartedness. Given that the context implies positivity, this emoji effectively captures a playful and happy emotion.\n",
      "Processed happy0029.png\n",
      "New prompt: The image features a yellow emoji character with a neutral expression. Her eyes are closed, indicating a state of relaxation or contemplation. She has straight blonde hair and is wearing a purple shirt. Above her, two yellow hands gently hold her head, suggesting a soothing or comforting gesture, often associated with activities like a massage or meditation. The overall emotional content conveys a sense of tranquility and relaxation.\n",
      "Processed happy0030.png\n",
      "New prompt: The image depicts an animated character of a woman with long, flowing blonde hair, dressed in a striking red dress. She appears to be in motion, with one arm raised and a leg lifted as if happily dancing or walking. The vibrant color of her dress and her dynamic posture suggest a sense of liveliness and joy. Her expression likely conveys enthusiasm and energy, further emphasizing a cheerful mood. The overall composition evokes a feeling of celebration and positivity.\n",
      "Processed happy0031.png\n",
      "New prompt: The image features an emoji character with a bright, cheerful expression. The character has a confident stance, with one hand raised and pointing upward, suggesting enthusiasm or celebration. Dressed in a vibrant purple suit with a pink collar, the outfit adds to the lively and positive vibe. The character's round face, adorned with a wide smile, conveys happiness and an energetic spirit. Overall, the emotional content is one of joy and excitement.\n",
      "Processed happy0032.png\n",
      "New prompt: The image features a vibrant and expressive sun emoji. The sun has a bright yellow circular face with a cheerful expression. Its eyes are wide and round, conveying a sense of warmth and positivity. The subtle smile enhances its friendly demeanor, suggesting a feeling of happiness and joy. Surrounding the sun are radiant orange rays that add to its lively appearance, creating an overall uplifting emotional content. The sun's face evokes feelings of brightness and cheerfulness, ideal for representing sunny days or joyful moments.\n",
      "Processed happy0033.png\n",
      "New prompt: The image depicts a vibrant palm tree standing on a small island with a sandy beach surrounded by water. The palm tree has lush green fronds, creating a tropical and relaxing atmosphere. The sand appears golden, and the water is a soft blue with white highlights, suggesting clarity and calmness. \n",
      "\n",
      "There are no facial expressions or emotional content in this image, as it features an object rather than a person. The overall feel is serene and idyllic, evoking feelings of relaxation and a tropical getaway. There are no indications of happiness or sadness in this image based on the filename.\n",
      "Processed happy0034.png\n",
      "New prompt: The image features an animated character with a calm and serene expression. The character's eyes are closed, suggesting a sense of relaxation or contemplation. The slight smile adds to the peaceful vibe, indicating contentment or a moment of tranquility. There are two hands positioned gently on the character's head, which may imply a comforting or soothing gesture, further enhancing the emotion of relaxation and care. The character is depicted wearing a blue shirt, contributing to the overall soothing color palette. \n",
      "\n",
      "There are no indicators in the file name suggesting it is related to \"happy\" or \"sad,\" but the emotional content leans towards a tranquil and peaceful mood.\n",
      "Processed happy0035.png\n",
      "New prompt: The image depicts a woman in mid-motion, wearing a vibrant red dress that flows gracefully as she dances. She has long, dark hair that complements her attire and gives a sense of movement and energy. Her facial expression is joyful and lively, indicative of enjoyment and exuberance. The confident pose and dynamic posture suggest a sense of freedom and happiness, capturing a moment of celebration or dance. Overall, the image conveys a strong emotional content associated with joy and vitality.\n",
      "Processed happy0036.png\n",
      "New prompt: The image showcases a stylized character with a confident and energetic pose. The character is dressed in a vibrant purple suit, complete with a pink shirt and decorative buttons. His facial expression is cheerful, featuring a broad smile and lively eyes, reflecting a sense of joy and enthusiasm. The character's hand is raised with a finger pointing up, suggesting a celebratory or inspirational gesture. Overall, the emotional content communicates positivity and excitement, making it an engaging and lively depiction.\n",
      "Processed happy0037.png\n",
      "New prompt: The image features a cartoonish frog with a bright green coloration. Its eyes are large and round, conveying a sense of cheerfulness and curiosity. The frog's mouth is wide open in a big smile, revealing a friendly and inviting expression. The overall demeanor of the frog suggests joy and playfulness. \n",
      "\n",
      "Since the filename does not contain 'happy' or 'sad', there isn’t a specific emotional tag associated with it beyond its cheerful appearance.\n",
      "Processed happy0038.png\n",
      "New prompt: The image features a cartoon monkey face emoji. The monkey has a smooth, light brown fur color, with rounded ears and large, expressive black eyes that convey a sense of playfulness. Its mouth is wide open in a cheerful smile, suggesting joy and friendliness. The overall expression is one of happiness and eagerness, evoking a light-hearted, fun-loving emotion. This imagery may be used to represent feelings of joy, playfulness, or a light-hearted spirit.\n",
      "Processed happy0039.png\n",
      "New prompt: The image consists of a simple black silhouette of a face, which conveys a neutral expression. The lack of detailed features means there are no clear markers of emotion such as smiles or frowns. Given the simplicity of the image, it leaves a sense of ambiguity about the feelings being expressed. \n",
      "\n",
      "If you need a more specific emotional interpretation or additional elements to focus on, please let me know!\n",
      "Processed happy0040.png\n",
      "New prompt: The image shows a brightly colored gift box, predominantly gold with a bold red ribbon and bow on top. The box has a cheerful and festive appearance, evoking feelings of excitement and anticipation. The shiny texture and vibrant colors suggest it's a special occasion, like a birthday or holiday celebration. Since the file name doesn't contain \"happy\" or \"sad,\" I'll focus on the positive emotional content conveyed by the gift box itself, which symbolizes joy and the thrill of receiving something special.\n",
      "Processed happy0041.png\n",
      "New prompt: The image depicts a vibrant pink heart with sparkles around it, suggesting feelings of love, joy, and positivity. The bright colors convey a cheerful and uplifting energy, which can evoke a sense of happiness and warmth. The sparkles add an element of excitement, enhancing the emotional content by indicating something special or magical. Overall, the image radiates a joyful and affectionate vibe.\n",
      "Processed happy0042.png\n",
      "New prompt: The image features a vibrant and beautifully arched rainbow, showcasing an array of colors from red to purple. The colors are bright and clearly defined, evoking a sense of joy and positivity. Rainbows are often associated with happiness and hope, symbolizing peace and harmony. There's a feeling of lightness and cheerfulness that radiates from the image, inviting viewers to appreciate the beauty of nature.\n",
      "Processed happy0043.png\n",
      "New prompt: The image depicts a gold medal with a prominent \"1\" displayed on its surface, symbolizing first place or victory. The medal is adorned with a ribbon featuring red, white, and blue colors, which adds to its celebratory appearance. The overall impression conveyed by the medal suggests achievement, success, and pride. There are no facial expressions or emotional content to describe, as the image focuses solely on the medal itself.\n",
      "Processed happy0044.png\n",
      "New prompt: The image depicts a shiny gold trophy with two handles, resting on a brown base. The trophy's polished surface reflects light, enhancing its prominence and giving it a celebratory appearance. While there are no facial expressions or emotional content present in this image, the trophy itself typically symbolizes achievement, success, and joy, often associated with celebratory moments. The image conveys a sense of victory and accomplishment, characteristic of awards and recognition.\n",
      "Processed happy0045.png\n",
      "New prompt: The image features an animated character with a warm, approachable expression. The character has medium brown skin, large round eyes that convey friendliness, and a slight smile that adds to the positive vibe. Their hair is dark and styled casually. One hand is raised high, signaling eagerness or a desire to participate, perhaps in a conversation or classroom setting. The character is dressed in a light gray long-sleeve shirt, giving a casual and comfortable appearance. Overall, the emotional content radiates enthusiasm and engagement.\n",
      "Processed happy0046.png\n",
      "New prompt: The image features a cartoon-style cow emoji, characterized by its friendly and cheerful appearance. The cow has big, round, black eyes that contribute to a playful demeanor. Its smile is broad and inviting, suggesting a sense of happiness and contentment. The rounded shape of its face and the soft contours add to the overall warm and friendly expression. The ears are upright and accentuate its lively character.\n",
      "\n",
      "Since the file name does not contain \"happy\" or \"sad,\" I will focus solely on describing the cow's facial expression and emotional content without those additional keywords.\n",
      "Processing complete!\n"
     ]
    }
   ],
   "source": [
    "import os\n",
    "import json\n",
    "from openai import OpenAI\n",
    "from dotenv import load_dotenv\n",
    "from pathlib import Path\n",
    "\n",
    "# Load environment variables\n",
    "load_dotenv()\n",
    "\n",
    "# Initialize OpenAI client with API key from .env\n",
    "api_key = os.getenv('OPENAI_API_KEY')\n",
    "if not api_key:\n",
    "    raise ValueError(\"Please set OPENAI_API_KEY in your .env file\")\n",
    "client = OpenAI(api_key=api_key)\n",
    "\n",
    "# Path to dataset folder and metadata\n",
    "dataset_path = Path(\"dataset\")\n",
    "metadata_file = dataset_path / \"metadata.jsonl\"\n",
    "new_metadata_file = dataset_path / \"metadata_with_new_prompts.jsonl\"\n",
    "\n",
    "# Read existing metadata\n",
    "with open(metadata_file, 'r') as f:\n",
    "    metadata_entries = [json.loads(line) for line in f]\n",
    "\n",
    "# Process each entry\n",
    "for entry in metadata_entries:\n",
    "    image_path = dataset_path / entry['file_name']\n",
    "    \n",
    "    # Encode image to base64\n",
    "    with open(image_path, 'rb') as image_file:\n",
    "        import base64\n",
    "        base64_image = base64.b64encode(image_file.read()).decode('utf-8')\n",
    "    \n",
    "    try:\n",
    "        # Generate description using GPT-4 Vision\n",
    "        response = client.chat.completions.create(\n",
    "            model=\"gpt-4o-mini\",  # corrected model name\n",
    "            messages=[\n",
    "                {\n",
    "                    \"role\": \"user\",\n",
    "                    \"content\": [\n",
    "                        {\"type\": \"text\", \"text\": \"Describe this image in detail, focusing on the facial expression and emotional content. If the file name contains 'happy' please include that in the description. The same goes for if the file name contains 'sad'\"},\n",
    "                        {\n",
    "                            \"type\": \"image_url\",\n",
    "                            \"image_url\": {\n",
    "                                \"url\": f\"data:image/jpeg;base64,{base64_image}\"\n",
    "                            }\n",
    "                        }\n",
    "                    ]\n",
    "                }\n",
    "            ],\n",
    "            max_tokens=300\n",
    "        )\n",
    "        \n",
    "        \n",
    "        # Update prompt in entry\n",
    "        entry['prompt'] = response.choices[0].message.content\n",
    "        \n",
    "        # Write to new file\n",
    "        with open(new_metadata_file, 'a') as f:\n",
    "            json.dump(entry, f)\n",
    "            f.write('\\n')\n",
    "            \n",
    "        print(f\"Processed {entry['file_name']}\")\n",
    "        print(f\"New prompt: {entry['prompt']}\")\n",
    "        \n",
    "    except Exception as e:\n",
    "        print(f\"Error processing {entry['file_name']}: {str(e)}\")\n",
    "\n",
    "print(\"Processing complete!\")\n"
   ]
  },
  {
   "cell_type": "code",
   "execution_count": 9,
   "metadata": {},
   "outputs": [
    {
     "name": "stdout",
     "output_type": "stream",
     "text": [
      "Processing complete! New file written to dataset/metadata_with_new_prompts_with_happy_sad.jsonl\n"
     ]
    }
   ],
   "source": [
    "# create new jsonl from dataset/metadata_with_new_prompts.jsonl\n",
    "# detect if each jsonl file_name has regex 'happy' or 'sad' (e.g. sad_01.jpg or sad0020.png are both 'sad') \n",
    "# if 'happy' add the following to the beginning of the \"prompt\" field: \"This is an image of a happy emoji, and what follows is a description of the emoji. \"\n",
    "# if 'sad' add the following to the beginning of the \"prompt\" field: \"This is an image of a sad emoji, and what follows is a description of the emoji. \"\n",
    "# write the new jsonl to dataset/metadata_with_new_prompts_with_happy_sad.jsonl\n",
    "\n",
    "import json\n",
    "import re\n",
    "\n",
    "# Input and output files\n",
    "input_file = 'dataset/metadata_with_new_prompts.jsonl'\n",
    "output_file = 'dataset/metadata_with_new_prompts_with_happy_sad.jsonl'\n",
    "\n",
    "# Process each line\n",
    "with open(input_file, 'r') as infile, open(output_file, 'w') as outfile:\n",
    "    for line in infile:\n",
    "        entry = json.loads(line)\n",
    "        \n",
    "        # Check if filename contains 'happy' or 'sad'\n",
    "        if re.search(r'happy', entry['file_name'], re.IGNORECASE):\n",
    "            entry['prompt'] = \"This is an image of a happy emoji, and what follows is a description of the emoji. \" + entry['prompt']\n",
    "        elif re.search(r'sad', entry['file_name'], re.IGNORECASE):\n",
    "            entry['prompt'] = \"This is an image of a sad emoji, and what follows is a description of the emoji. \" + entry['prompt']\n",
    "            \n",
    "        # Write modified entry to output file\n",
    "        json.dump(entry, outfile)\n",
    "        outfile.write('\\n')\n",
    "\n",
    "print(f\"Processing complete! New file written to {output_file}\")\n"
   ]
  },
  {
   "cell_type": "code",
   "execution_count": 10,
   "metadata": {},
   "outputs": [
    {
     "name": "stdout",
     "output_type": "stream",
     "text": [
      "Processing complete! New file written to dataset/metadata_with_new_prompts_without_last_sentence.jsonl\n"
     ]
    }
   ],
   "source": [
    "import json\n",
    "\n",
    "input_file = 'dataset/metadata_with_new_prompts_with_happy_sad.jsonl'\n",
    "output_file = 'dataset/metadata_with_new_prompts_without_last_sentence.jsonl'\n",
    "\n",
    "with open(input_file, 'r') as infile, open(output_file, 'w') as outfile:\n",
    "    for line in infile:\n",
    "        entry = json.loads(line)\n",
    "        \n",
    "        # Split prompt into sentences and remove the last one\n",
    "        sentences = entry['prompt'].split('. ')\n",
    "        entry['prompt'] = '. '.join(sentences[:-1]) + '.'\n",
    "        \n",
    "        # Write modified entry to output file\n",
    "        json.dump(entry, outfile)\n",
    "        outfile.write('\\n')\n",
    "\n",
    "print(f\"Processing complete! New file written to {output_file}\")\n"
   ]
  },
  {
   "cell_type": "code",
   "execution_count": 3,
   "metadata": {},
   "outputs": [
    {
     "name": "stderr",
     "output_type": "stream",
     "text": [
      "Processing prompts:   1%|          | 1/102 [00:02<03:26,  2.05s/it]"
     ]
    },
    {
     "name": "stdout",
     "output_type": "stream",
     "text": [
      "\n",
      "New prompt for sad_01.jpg:\n",
      "A cheerful emoji against a blue background expresses joy with raised eyebrows, wide eyes, and a smiling mouth, suggesting positivity.\n"
     ]
    },
    {
     "name": "stderr",
     "output_type": "stream",
     "text": [
      "Processing prompts:   2%|▏         | 2/102 [00:03<02:54,  1.75s/it]"
     ]
    },
    {
     "name": "stdout",
     "output_type": "stream",
     "text": [
      "\n",
      "New prompt for sad_02.jpg:\n",
      "The emoji image depicts a frustrated expression using characters, with a frown suggesting displeasure, absent direct 'happy' or 'sad' indicators.\n"
     ]
    },
    {
     "name": "stderr",
     "output_type": "stream",
     "text": [
      "Processing prompts:   3%|▎         | 3/102 [00:04<02:13,  1.35s/it]"
     ]
    },
    {
     "name": "stdout",
     "output_type": "stream",
     "text": [
      "\n",
      "New prompt for sad_03.jpg:\n",
      "The emoji features a cheerful, whimsical expression with widened eyes and open mouth, conveying surprise and playful joy.\n"
     ]
    },
    {
     "name": "stderr",
     "output_type": "stream",
     "text": [
      "Processing prompts:   4%|▍         | 4/102 [00:05<01:43,  1.06s/it]"
     ]
    },
    {
     "name": "stdout",
     "output_type": "stream",
     "text": [
      "\n",
      "New prompt for sad_01.jpg:\n",
      "The image shows a playful, minimalist sad emoji with rounded eyes, conveying innocence and joy against a solid blue background.\n"
     ]
    },
    {
     "name": "stderr",
     "output_type": "stream",
     "text": [
      "Processing prompts:   5%|▍         | 5/102 [00:05<01:28,  1.10it/s]"
     ]
    },
    {
     "name": "stdout",
     "output_type": "stream",
     "text": [
      "\n",
      "New prompt for sad_02.jpg:\n",
      "The text describes a sad emoji using characters, depicting a confused or frustrated expression, evoking irritation or bewilderment.\n"
     ]
    },
    {
     "name": "stderr",
     "output_type": "stream",
     "text": [
      "Processing prompts:   6%|▌         | 6/102 [00:09<02:55,  1.83s/it]"
     ]
    },
    {
     "name": "stdout",
     "output_type": "stream",
     "text": [
      "\n",
      "New prompt for sad_03.jpg:\n",
      "The image depicts a cute, surprised emoji with wide eyes, open mouth, and upturned hands suggesting curiosity and engagement.\n"
     ]
    },
    {
     "name": "stderr",
     "output_type": "stream",
     "text": [
      "Processing prompts:   7%|▋         | 7/102 [00:09<02:15,  1.43s/it]"
     ]
    },
    {
     "name": "stdout",
     "output_type": "stream",
     "text": [
      "\n",
      "New prompt for sad_04.jpg:\n",
      "The image depicts a minimalist sad emoji with closed eyes and a downturned mouth on a soft pink background.\n"
     ]
    },
    {
     "name": "stderr",
     "output_type": "stream",
     "text": [
      "Processing prompts:   8%|▊         | 8/102 [00:10<01:50,  1.17s/it]"
     ]
    },
    {
     "name": "stdout",
     "output_type": "stream",
     "text": [
      "\n",
      "New prompt for sad_05.png:\n",
      "The image features a basic emoji lacking context to determine if it expresses happiness or sadness.\n"
     ]
    },
    {
     "name": "stderr",
     "output_type": "stream",
     "text": [
      "Processing prompts:   9%|▉         | 9/102 [00:11<01:44,  1.13s/it]"
     ]
    },
    {
     "name": "stdout",
     "output_type": "stream",
     "text": [
      "\n",
      "New prompt for sad_06.jpg:\n",
      "The image is a bright green emoticon with ambiguous features, suggesting hesitation or mild confusion rather than clear emotions.\n"
     ]
    },
    {
     "name": "stderr",
     "output_type": "stream",
     "text": [
      "Processing prompts:  10%|▉         | 10/102 [00:12<01:37,  1.06s/it]"
     ]
    },
    {
     "name": "stdout",
     "output_type": "stream",
     "text": [
      "\n",
      "New prompt for sad_07.png:\n",
      "The sad emoji features large, tearful eyes, with water streams on its cheeks and sitting in a pool, conveying vulnerability and despair.\n"
     ]
    },
    {
     "name": "stderr",
     "output_type": "stream",
     "text": [
      "Processing prompts:  11%|█         | 11/102 [00:13<01:27,  1.04it/s]"
     ]
    },
    {
     "name": "stdout",
     "output_type": "stream",
     "text": [
      "\n",
      "New prompt for sad_08.png:\n",
      "The image depicts a sad emoji with large, teary eyes and a neutral mouth, conveying a sense of sadness.\n"
     ]
    },
    {
     "name": "stderr",
     "output_type": "stream",
     "text": [
      "Processing prompts:  12%|█▏        | 12/102 [00:13<01:19,  1.13it/s]"
     ]
    },
    {
     "name": "stdout",
     "output_type": "stream",
     "text": [
      "\n",
      "New prompt for sad_09.jpg:\n",
      "A yellow sad emoji with downturned lips and expressionless eyes against a green background conveys disappointment or sorrow.\n"
     ]
    },
    {
     "name": "stderr",
     "output_type": "stream",
     "text": [
      "Processing prompts:  13%|█▎        | 13/102 [00:14<01:16,  1.16it/s]"
     ]
    },
    {
     "name": "stdout",
     "output_type": "stream",
     "text": [
      "\n",
      "New prompt for sad_10.jpg:\n",
      "The emoji depicts a sad, yellow face with downturned eyes, frowning mouth, and blushing cheeks, expressing distress and dejection.\n"
     ]
    },
    {
     "name": "stderr",
     "output_type": "stream",
     "text": [
      "Processing prompts:  14%|█▎        | 14/102 [00:15<01:12,  1.22it/s]"
     ]
    },
    {
     "name": "stdout",
     "output_type": "stream",
     "text": [
      "\n",
      "New prompt for sad_11.jpg:\n",
      "The text describes a minimalist emoji with a cheerful expression, suggesting positivity and calmness through abstract facial features and contrasting background.\n"
     ]
    },
    {
     "name": "stderr",
     "output_type": "stream",
     "text": [
      "Processing prompts:  15%|█▍        | 15/102 [00:16<01:08,  1.27it/s]"
     ]
    },
    {
     "name": "stdout",
     "output_type": "stream",
     "text": [
      "\n",
      "New prompt for sad_12.jpg:\n",
      "The image depicts a sad emoji with a furrowed brow and downturned mouth, conveying a sense of melancholy or disappointment.\n"
     ]
    },
    {
     "name": "stderr",
     "output_type": "stream",
     "text": [
      "Processing prompts:  16%|█▌        | 16/102 [00:17<01:13,  1.16it/s]"
     ]
    },
    {
     "name": "stdout",
     "output_type": "stream",
     "text": [
      "\n",
      "New prompt for sad_13.jpg:\n",
      "The image depicts a vibrant, cartoonish emoji with a shocked expression, featuring wide eyes, raised eyebrows, and an open, round mouth.\n"
     ]
    },
    {
     "name": "stderr",
     "output_type": "stream",
     "text": [
      "Processing prompts:  17%|█▋        | 17/102 [00:17<01:07,  1.27it/s]"
     ]
    },
    {
     "name": "stdout",
     "output_type": "stream",
     "text": [
      "\n",
      "New prompt for sad0001.png:\n",
      "The emoji depicts sadness with a yellow face, downturned eyebrows, and a frown, effectively conveying melancholic emotions.\n"
     ]
    },
    {
     "name": "stderr",
     "output_type": "stream",
     "text": [
      "Processing prompts:  18%|█▊        | 18/102 [00:18<01:14,  1.13it/s]"
     ]
    },
    {
     "name": "stdout",
     "output_type": "stream",
     "text": [
      "\n",
      "New prompt for sad0002.png:\n",
      "The image depicts a sad yellow emoji with a pronounced frown and small eyes, conveying unhappiness or disappointment.\n"
     ]
    },
    {
     "name": "stderr",
     "output_type": "stream",
     "text": [
      "Processing prompts:  19%|█▊        | 19/102 [00:19<01:14,  1.11it/s]"
     ]
    },
    {
     "name": "stdout",
     "output_type": "stream",
     "text": [
      "\n",
      "New prompt for sad0003.png:\n",
      "A yellow emoji with squinted eyes and zigzag mouth conveys discomfort, unease, or confusion, reacting to something unpleasant or frustrating.\n"
     ]
    },
    {
     "name": "stderr",
     "output_type": "stream",
     "text": [
      "Processing prompts:  20%|█▉        | 20/102 [00:20<01:12,  1.13it/s]"
     ]
    },
    {
     "name": "stdout",
     "output_type": "stream",
     "text": [
      "\n",
      "New prompt for sad0004.png:\n",
      "The image shows a yellow emoji with a distressed expression, conveying deep sorrow, frustration, and exasperation through closed eyes and a frown.\n"
     ]
    },
    {
     "name": "stderr",
     "output_type": "stream",
     "text": [
      "Processing prompts:  21%|██        | 21/102 [00:21<01:11,  1.13it/s]"
     ]
    },
    {
     "name": "stdout",
     "output_type": "stream",
     "text": [
      "\n",
      "New prompt for sad0005.png:\n",
      "The emoji is yellow with a downturned mouth and half-closed eyes, expressing deep sadness, disappointment, distress, or despair.\n"
     ]
    },
    {
     "name": "stderr",
     "output_type": "stream",
     "text": [
      "Processing prompts:  22%|██▏       | 22/102 [00:22<01:09,  1.15it/s]"
     ]
    },
    {
     "name": "stdout",
     "output_type": "stream",
     "text": [
      "\n",
      "New prompt for sad0006.png:\n",
      "The image portrays a sad emoji with downturned eyebrows, closed eyes, and a frown, expressing disappointment and melancholy.\n"
     ]
    },
    {
     "name": "stderr",
     "output_type": "stream",
     "text": [
      "Processing prompts:  23%|██▎       | 23/102 [00:23<01:05,  1.21it/s]"
     ]
    },
    {
     "name": "stdout",
     "output_type": "stream",
     "text": [
      "\n",
      "New prompt for sad0007.png:\n",
      "The image shows a yellow emoji with a downturned mouth and raised eyebrows, conveying sadness or disappointment.\n"
     ]
    },
    {
     "name": "stderr",
     "output_type": "stream",
     "text": [
      "Processing prompts:  24%|██▎       | 24/102 [00:24<01:08,  1.14it/s]"
     ]
    },
    {
     "name": "stdout",
     "output_type": "stream",
     "text": [
      "\n",
      "New prompt for sad0008.png:\n",
      "The image shows a yellow emoji with a pained expression, conveying sadness and frustration through downturned eyebrows and a frowning mouth.\n"
     ]
    },
    {
     "name": "stderr",
     "output_type": "stream",
     "text": [
      "Processing prompts:  25%|██▍       | 25/102 [00:25<01:13,  1.05it/s]"
     ]
    },
    {
     "name": "stdout",
     "output_type": "stream",
     "text": [
      "\n",
      "New prompt for sad0009.png:\n",
      "The sad emoji features pleading eyes, upward eyebrows, and a frown, evoking empathy and conveying deep sadness or vulnerability.\n"
     ]
    },
    {
     "name": "stderr",
     "output_type": "stream",
     "text": [
      "Processing prompts:  25%|██▌       | 26/102 [00:26<01:16,  1.01s/it]"
     ]
    },
    {
     "name": "stdout",
     "output_type": "stream",
     "text": [
      "\n",
      "New prompt for sad0010.png:\n",
      "A bright yellow sad face emoji with a frown, round eyes, and a teardrop conveys sorrow and disappointment.\n"
     ]
    },
    {
     "name": "stderr",
     "output_type": "stream",
     "text": [
      "Processing prompts:  26%|██▋       | 27/102 [00:27<01:19,  1.06s/it]"
     ]
    },
    {
     "name": "stdout",
     "output_type": "stream",
     "text": [
      "\n",
      "New prompt for sad0011.png:\n",
      "An emoji with a melancholic expression, featuring wide sad eyes, a downturned mouth, short black hair, and a neutral shirt.\n"
     ]
    },
    {
     "name": "stderr",
     "output_type": "stream",
     "text": [
      "Processing prompts:  27%|██▋       | 28/102 [00:28<01:20,  1.09s/it]"
     ]
    },
    {
     "name": "stdout",
     "output_type": "stream",
     "text": [
      "\n",
      "New prompt for sad0012.png:\n",
      "The image is a yellow, tearful emoji with a frowning mouth, expressing deep sadness and distress.\n"
     ]
    },
    {
     "name": "stderr",
     "output_type": "stream",
     "text": [
      "Processing prompts:  28%|██▊       | 29/102 [00:29<01:16,  1.04s/it]"
     ]
    },
    {
     "name": "stdout",
     "output_type": "stream",
     "text": [
      "\n",
      "New prompt for sad0013.png:\n",
      "A sad yellow emoji with arched eyebrows, a frowning mouth, and a tear conveys deep melancholy and vulnerability.\n"
     ]
    },
    {
     "name": "stderr",
     "output_type": "stream",
     "text": [
      "Processing prompts:  29%|██▉       | 30/102 [00:30<01:08,  1.06it/s]"
     ]
    },
    {
     "name": "stdout",
     "output_type": "stream",
     "text": [
      "\n",
      "New prompt for sad0014.png:\n",
      "A vivid red broken heart emoji symbolizes sadness and heartache, evoking emotional pain and empathy with its distinct crack and sharp edges.\n"
     ]
    },
    {
     "name": "stderr",
     "output_type": "stream",
     "text": [
      "Processing prompts:  30%|███       | 31/102 [00:31<01:02,  1.14it/s]"
     ]
    },
    {
     "name": "stdout",
     "output_type": "stream",
     "text": [
      "\n",
      "New prompt for sad0015.png:\n",
      "The image depicts a downward-trending zigzag line on a graph, possibly indicating negative performance or decline, evoking concern.\n"
     ]
    },
    {
     "name": "stderr",
     "output_type": "stream",
     "text": [
      "Processing prompts:  31%|███▏      | 32/102 [00:32<01:01,  1.13it/s]"
     ]
    },
    {
     "name": "stdout",
     "output_type": "stream",
     "text": [
      "\n",
      "New prompt for sad0016.png:\n",
      "The image shows a sad emoji with a stormy scene, featuring a fluffy cloud, lightning bolt, and raindrops, evoking melancholy.\n"
     ]
    },
    {
     "name": "stderr",
     "output_type": "stream",
     "text": [
      "Processing prompts:  32%|███▏      | 33/102 [00:33<01:04,  1.07it/s]"
     ]
    },
    {
     "name": "stdout",
     "output_type": "stream",
     "text": [
      "\n",
      "New prompt for sad0017.png:\n",
      "The text mentions an image of a sad emoji and notes the inability to recognize or describe it directly.\n"
     ]
    },
    {
     "name": "stderr",
     "output_type": "stream",
     "text": [
      "Processing prompts:  33%|███▎      | 34/102 [00:34<01:05,  1.04it/s]"
     ]
    },
    {
     "name": "stdout",
     "output_type": "stream",
     "text": [
      "\n",
      "New prompt for sad0018.png:\n",
      "The image depicts a sad emoji with yellow face, downturned eyes, and a frowning mouth, expressing worry or distress.\n"
     ]
    },
    {
     "name": "stderr",
     "output_type": "stream",
     "text": [
      "Processing prompts:  34%|███▍      | 35/102 [00:34<01:02,  1.08it/s]"
     ]
    },
    {
     "name": "stdout",
     "output_type": "stream",
     "text": [
      "\n",
      "New prompt for sad0019.png:\n",
      "The image portrays a contemplative, sad emoji with furrowed brows, downcast brown eyes, and a neutral expression, wearing a gray shirt.\n"
     ]
    },
    {
     "name": "stderr",
     "output_type": "stream",
     "text": [
      "Processing prompts:  35%|███▌      | 36/102 [00:35<00:56,  1.18it/s]"
     ]
    },
    {
     "name": "stdout",
     "output_type": "stream",
     "text": [
      "\n",
      "New prompt for sad0020.png:\n",
      "A sad cat emoji with wide eyes, a downturned mouth, and a single blue tear conveys distress and sorrow.\n"
     ]
    },
    {
     "name": "stderr",
     "output_type": "stream",
     "text": [
      "Processing prompts:  36%|███▋      | 37/102 [00:36<00:52,  1.23it/s]"
     ]
    },
    {
     "name": "stdout",
     "output_type": "stream",
     "text": [
      "\n",
      "New prompt for sad0021.png:\n",
      "A yellow emoji with a downturned mouth and sweat conveys sadness, stress, and anxiety.\n"
     ]
    },
    {
     "name": "stderr",
     "output_type": "stream",
     "text": [
      "Processing prompts:  37%|███▋      | 38/102 [00:37<00:56,  1.14it/s]"
     ]
    },
    {
     "name": "stdout",
     "output_type": "stream",
     "text": [
      "\n",
      "New prompt for happy_01.jpg:\n",
      "The image features a whimsical emoji face on a blue background, with bright pink accents conveying positivity and playfulness.\n"
     ]
    },
    {
     "name": "stderr",
     "output_type": "stream",
     "text": [
      "Processing prompts:  38%|███▊      | 39/102 [00:38<00:57,  1.10it/s]"
     ]
    },
    {
     "name": "stdout",
     "output_type": "stream",
     "text": [
      "\n",
      "New prompt for happy_02.jpg:\n",
      "The text describes a playful, ambiguous emoticon with curved eyes and an inverted triangle mouth, evoking curiosity or amusement.\n"
     ]
    },
    {
     "name": "stderr",
     "output_type": "stream",
     "text": [
      "Processing prompts:  39%|███▉      | 40/102 [00:39<00:53,  1.16it/s]"
     ]
    },
    {
     "name": "stdout",
     "output_type": "stream",
     "text": [
      "\n",
      "New prompt for happy_03.jpg:\n",
      "A minimalist emoji face with curved eyes, triangle nose, and line mouth conveys a neutral or content vibe.\n"
     ]
    },
    {
     "name": "stderr",
     "output_type": "stream",
     "text": [
      "Processing prompts:  40%|████      | 41/102 [00:39<00:52,  1.16it/s]"
     ]
    },
    {
     "name": "stdout",
     "output_type": "stream",
     "text": [
      "\n",
      "New prompt for happy_04.jpg:\n",
      "A simple emoticon with raised eyebrows and a slight smile conveys a lighthearted, playful emotion, altered by context in the filename.\n"
     ]
    },
    {
     "name": "stderr",
     "output_type": "stream",
     "text": [
      "Processing prompts:  41%|████      | 42/102 [00:40<00:49,  1.22it/s]"
     ]
    },
    {
     "name": "stdout",
     "output_type": "stream",
     "text": [
      "\n",
      "New prompt for happy_05.jpg:\n",
      "The emoji image depicts a minimalist smiling face with stars, conveying joy and positive emotions.\n"
     ]
    },
    {
     "name": "stderr",
     "output_type": "stream",
     "text": [
      "Processing prompts:  42%|████▏     | 43/102 [00:41<00:47,  1.24it/s]"
     ]
    },
    {
     "name": "stdout",
     "output_type": "stream",
     "text": [
      "\n",
      "New prompt for happy_06.jpg:\n",
      "The emoji features a minimalistic face with purple lines on a peach background, conveying a relaxed or indifferent expression.\n"
     ]
    },
    {
     "name": "stderr",
     "output_type": "stream",
     "text": [
      "Processing prompts:  43%|████▎     | 44/102 [00:42<00:50,  1.15it/s]"
     ]
    },
    {
     "name": "stdout",
     "output_type": "stream",
     "text": [
      "\n",
      "New prompt for happy_07.jpg:\n",
      "The image is a stylized happy emoji with a cheerful expression, vibrant colors, and a broad smile, conveying contentment.\n"
     ]
    },
    {
     "name": "stderr",
     "output_type": "stream",
     "text": [
      "Processing prompts:  44%|████▍     | 45/102 [00:44<01:11,  1.25s/it]"
     ]
    },
    {
     "name": "stdout",
     "output_type": "stream",
     "text": [
      "\n",
      "New prompt for happy_08.jpg:\n",
      "The image depicts a large green emoji with expressive eyes and a wide, toothy smile, conveying joy and positivity against a dark background.\n"
     ]
    },
    {
     "name": "stderr",
     "output_type": "stream",
     "text": [
      "Processing prompts:  45%|████▌     | 46/102 [00:45<01:04,  1.15s/it]"
     ]
    },
    {
     "name": "stdout",
     "output_type": "stream",
     "text": [
      "\n",
      "New prompt for happy_09.jpg:\n",
      "A round green emoji with lively eyes and a wide grin exudes cheerful, playful, and approachable energy.\n"
     ]
    },
    {
     "name": "stderr",
     "output_type": "stream",
     "text": [
      "Processing prompts:  46%|████▌     | 47/102 [00:46<00:59,  1.09s/it]"
     ]
    },
    {
     "name": "stdout",
     "output_type": "stream",
     "text": [
      "\n",
      "New prompt for happy_10.png:\n",
      "A minimalist, stylized emoticon with curved eyes and mouth conveys happiness, lightheartedness, and friendliness through its simple, warm design.\n"
     ]
    },
    {
     "name": "stderr",
     "output_type": "stream",
     "text": [
      "Processing prompts:  47%|████▋     | 48/102 [00:47<00:57,  1.07s/it]"
     ]
    },
    {
     "name": "stdout",
     "output_type": "stream",
     "text": [
      "\n",
      "New prompt for happy_11.png:\n",
      "The image depicts a happy, whimsical ghost emoji with a playful, cheeky expression, conveying joy and mischief.\n"
     ]
    },
    {
     "name": "stderr",
     "output_type": "stream",
     "text": [
      "Processing prompts:  48%|████▊     | 49/102 [00:48<00:50,  1.04it/s]"
     ]
    },
    {
     "name": "stdout",
     "output_type": "stream",
     "text": [
      "\n",
      "New prompt for happy_12.jpg:\n",
      "A minimalistic happy emoji on a dark background, suggesting complex emotions beneath its cheerful smile.\n"
     ]
    },
    {
     "name": "stderr",
     "output_type": "stream",
     "text": [
      "Processing prompts:  49%|████▉     | 50/102 [00:49<00:49,  1.05it/s]"
     ]
    },
    {
     "name": "stdout",
     "output_type": "stream",
     "text": [
      "\n",
      "New prompt for happy_13.png:\n",
      "The happy emoji features a yellow smiley face with a wide smile, big eyes, and rosy cheeks, expressing joy and friendliness.\n"
     ]
    },
    {
     "name": "stderr",
     "output_type": "stream",
     "text": [
      "Processing prompts:  50%|█████     | 51/102 [00:50<00:48,  1.05it/s]"
     ]
    },
    {
     "name": "stdout",
     "output_type": "stream",
     "text": [
      "\n",
      "New prompt for happy_14.png:\n",
      "A purple smiley emoji with a cheerful smile and black eyes conveys friendliness, positivity, and a playful twist on the traditional design.\n"
     ]
    },
    {
     "name": "stderr",
     "output_type": "stream",
     "text": [
      "Processing prompts:  51%|█████     | 52/102 [00:50<00:45,  1.09it/s]"
     ]
    },
    {
     "name": "stdout",
     "output_type": "stream",
     "text": [
      "\n",
      "New prompt for happy_15.png:\n",
      "The text describes a cheerful yellow smiley face emoji with a wide smile and playful eyes, conveying positivity and warmth.\n"
     ]
    },
    {
     "name": "stderr",
     "output_type": "stream",
     "text": [
      "Processing prompts:  52%|█████▏    | 53/102 [00:51<00:42,  1.15it/s]"
     ]
    },
    {
     "name": "stdout",
     "output_type": "stream",
     "text": [
      "\n",
      "New prompt for happy_16.jpg:\n",
      "A vibrant image of smiling yellow emoticons with cheerful expressions against an orange background, evoking happiness and positivity.\n"
     ]
    },
    {
     "name": "stderr",
     "output_type": "stream",
     "text": [
      "Processing prompts:  53%|█████▎    | 54/102 [00:53<00:51,  1.07s/it]"
     ]
    },
    {
     "name": "stdout",
     "output_type": "stream",
     "text": [
      "\n",
      "New prompt for happy_17.jpg:\n",
      "A bright yellow happy emoji with a wide grin, glossy eyes, and a red mouth, exuding positivity and warmth.\n"
     ]
    },
    {
     "name": "stderr",
     "output_type": "stream",
     "text": [
      "Processing prompts:  54%|█████▍    | 55/102 [00:54<00:48,  1.03s/it]"
     ]
    },
    {
     "name": "stdout",
     "output_type": "stream",
     "text": [
      "\n",
      "New prompt for happy_18.jpg:\n",
      "A bright green smiley emoji with a blue outline, wide smile, and vibrant colors conveys happiness and positivity.\n"
     ]
    },
    {
     "name": "stderr",
     "output_type": "stream",
     "text": [
      "Processing prompts:  55%|█████▍    | 56/102 [00:55<00:49,  1.09s/it]"
     ]
    },
    {
     "name": "stdout",
     "output_type": "stream",
     "text": [
      "\n",
      "New prompt for happy_19.png:\n",
      "A cartoon emoji with a broad smile and squinted eyes conveys happiness, featuring vibrant yellow and creases for a warm expression.\n"
     ]
    },
    {
     "name": "stderr",
     "output_type": "stream",
     "text": [
      "Processing prompts:  56%|█████▌    | 57/102 [00:56<00:53,  1.19s/it]"
     ]
    },
    {
     "name": "stdout",
     "output_type": "stream",
     "text": [
      "\n",
      "New prompt for happy0001.png:\n",
      "A playful emoji with squinted eyes, mischievous grin, and tongue out conveys delight and cheekiness against a bright yellow background.\n"
     ]
    },
    {
     "name": "stderr",
     "output_type": "stream",
     "text": [
      "Processing prompts:  57%|█████▋    | 58/102 [00:58<00:52,  1.20s/it]"
     ]
    },
    {
     "name": "stdout",
     "output_type": "stream",
     "text": [
      "\n",
      "New prompt for happy0002.png:\n",
      "The emoji is a yellow smiley face with closed eyes and a soft smile, conveying calm, joy, and contentment.\n"
     ]
    },
    {
     "name": "stderr",
     "output_type": "stream",
     "text": [
      "Processing prompts:  58%|█████▊    | 59/102 [00:59<00:49,  1.15s/it]"
     ]
    },
    {
     "name": "stdout",
     "output_type": "stream",
     "text": [
      "\n",
      "New prompt for happy0003.png:\n",
      "A cheerful emoji with a wide smile and starry eyes conveys excitement, joy, and a positive emotional state.\n"
     ]
    },
    {
     "name": "stderr",
     "output_type": "stream",
     "text": [
      "Processing prompts:  59%|█████▉    | 60/102 [01:00<00:50,  1.20s/it]"
     ]
    },
    {
     "name": "stdout",
     "output_type": "stream",
     "text": [
      "\n",
      "New prompt for happy0004.png:\n",
      "The emoji is playful, yellow, and loving, with flirtatious eyes, puckered lips, and a red heart symbolizing affection.\n"
     ]
    },
    {
     "name": "stderr",
     "output_type": "stream",
     "text": [
      "Processing prompts:  60%|█████▉    | 61/102 [01:01<00:44,  1.09s/it]"
     ]
    },
    {
     "name": "stdout",
     "output_type": "stream",
     "text": [
      "\n",
      "New prompt for happy0005.png:\n",
      "Image of a classic, bright yellow smiley face emoji with eyes and a wide smile, symbolizing joy and positivity.\n"
     ]
    },
    {
     "name": "stderr",
     "output_type": "stream",
     "text": [
      "Processing prompts:  61%|██████    | 62/102 [01:02<00:43,  1.09s/it]"
     ]
    },
    {
     "name": "stdout",
     "output_type": "stream",
     "text": [
      "\n",
      "New prompt for happy0006.png:\n",
      "A yellow, smiling emoji with circular eyes and raised eyebrows, exuding positivity, joy, and friendliness.\n"
     ]
    },
    {
     "name": "stderr",
     "output_type": "stream",
     "text": [
      "Processing prompts:  62%|██████▏   | 63/102 [01:03<00:40,  1.03s/it]"
     ]
    },
    {
     "name": "stdout",
     "output_type": "stream",
     "text": [
      "\n",
      "New prompt for happy0007.png:\n",
      "A smiling yellow emoji with heart-shaped eyes, blushing cheeks, and floating hearts conveys joy, love, and affectionate warmth.\n"
     ]
    },
    {
     "name": "stderr",
     "output_type": "stream",
     "text": [
      "Processing prompts:  63%|██████▎   | 64/102 [01:03<00:34,  1.09it/s]"
     ]
    },
    {
     "name": "stdout",
     "output_type": "stream",
     "text": [
      "\n",
      "New prompt for happy0008.png:\n",
      "The emoji features a broad grin, curved eyes, and open mouth, conveying joy, warmth, and positivity.\n"
     ]
    },
    {
     "name": "stderr",
     "output_type": "stream",
     "text": [
      "Processing prompts:  64%|██████▎   | 65/102 [01:04<00:34,  1.08it/s]"
     ]
    },
    {
     "name": "stdout",
     "output_type": "stream",
     "text": [
      "\n",
      "New prompt for happy0009.png:\n",
      "The image shows a happy yellow emoji with a wide smile and cheerful eyes, symbolizing joy, positivity, and friendliness.\n"
     ]
    },
    {
     "name": "stderr",
     "output_type": "stream",
     "text": [
      "Processing prompts:  65%|██████▍   | 66/102 [01:05<00:35,  1.01it/s]"
     ]
    },
    {
     "name": "stdout",
     "output_type": "stream",
     "text": [
      "\n",
      "New prompt for happy0010.png:\n",
      "A smiling, crinkled-eyes emoji on a yellow background conveys happiness, joy, and positivity, creating an energetic and uplifting mood.\n"
     ]
    },
    {
     "name": "stderr",
     "output_type": "stream",
     "text": [
      "Processing prompts:  66%|██████▌   | 67/102 [01:06<00:34,  1.00it/s]"
     ]
    },
    {
     "name": "stdout",
     "output_type": "stream",
     "text": [
      "\n",
      "New prompt for happy0011.png:\n",
      "The emoji presents a joyful yet slightly anxious expression, combining happiness, contentment, and vulnerability with a grin and sweat bead.\n"
     ]
    },
    {
     "name": "stderr",
     "output_type": "stream",
     "text": [
      "Processing prompts:  67%|██████▋   | 68/102 [01:07<00:32,  1.04it/s]"
     ]
    },
    {
     "name": "stdout",
     "output_type": "stream",
     "text": [
      "\n",
      "New prompt for happy0012.png:\n",
      "A yellow smiley emoji laughing with tears, conveying joy, amusement, and lightheartedness through a broad smile and crescent eyes.\n"
     ]
    },
    {
     "name": "stderr",
     "output_type": "stream",
     "text": [
      "Processing prompts:  68%|██████▊   | 69/102 [01:08<00:31,  1.05it/s]"
     ]
    },
    {
     "name": "stdout",
     "output_type": "stream",
     "text": [
      "\n",
      "New prompt for happy0013.png:\n",
      "The emoji shows a yellow smiling face with tears of laughter, conveying intense joy and amusement.\n"
     ]
    },
    {
     "name": "stderr",
     "output_type": "stream",
     "text": [
      "Processing prompts:  69%|██████▊   | 70/102 [01:09<00:30,  1.05it/s]"
     ]
    },
    {
     "name": "stdout",
     "output_type": "stream",
     "text": [
      "\n",
      "New prompt for happy0014.png:\n",
      "A smiling emoji with closed eyes, a joyful grin, and a playful tongue sticking out, expressing delight and happiness.\n"
     ]
    },
    {
     "name": "stderr",
     "output_type": "stream",
     "text": [
      "Processing prompts:  70%|██████▉   | 71/102 [01:10<00:29,  1.04it/s]"
     ]
    },
    {
     "name": "stdout",
     "output_type": "stream",
     "text": [
      "\n",
      "New prompt for happy0015.png:\n",
      "A classic smiley face emoji, featuring a yellow round face, black eyes, and a gentle smile, conveys happiness and positivity.\n"
     ]
    },
    {
     "name": "stderr",
     "output_type": "stream",
     "text": [
      "Processing prompts:  71%|███████   | 72/102 [01:11<00:28,  1.04it/s]"
     ]
    },
    {
     "name": "stdout",
     "output_type": "stream",
     "text": [
      "\n",
      "New prompt for happy0016.png:\n",
      "The emoji is joyfully adorned with a festive hat, blowing a party horn, surrounded by colorful confetti and smiles.\n"
     ]
    },
    {
     "name": "stderr",
     "output_type": "stream",
     "text": [
      "Processing prompts:  72%|███████▏  | 73/102 [01:12<00:29,  1.03s/it]"
     ]
    },
    {
     "name": "stdout",
     "output_type": "stream",
     "text": [
      "\n",
      "New prompt for happy0017.png:\n",
      "A yellow emoji with expressive eyes and a gentle smile, featuring tears of joy, conveys happiness, sentimentality, and emotional warmth.\n"
     ]
    },
    {
     "name": "stderr",
     "output_type": "stream",
     "text": [
      "Processing prompts:  73%|███████▎  | 74/102 [01:13<00:27,  1.02it/s]"
     ]
    },
    {
     "name": "stdout",
     "output_type": "stream",
     "text": [
      "\n",
      "New prompt for happy0018.png:\n",
      "A playful emoji with a bright yellow face, broad smile, closed eyes, and tongue out, indicating humor or mischief.\n"
     ]
    },
    {
     "name": "stderr",
     "output_type": "stream",
     "text": [
      "Processing prompts:  74%|███████▎  | 75/102 [01:14<00:27,  1.03s/it]"
     ]
    },
    {
     "name": "stdout",
     "output_type": "stream",
     "text": [
      "\n",
      "New prompt for happy0019.png:\n",
      "A cheerful emoji with a yellow face, closed eyes, and a blue halo exudes contentment, positivity, and playfulness.\n"
     ]
    },
    {
     "name": "stderr",
     "output_type": "stream",
     "text": [
      "Processing prompts:  75%|███████▍  | 76/102 [01:15<00:26,  1.01s/it]"
     ]
    },
    {
     "name": "stdout",
     "output_type": "stream",
     "text": [
      "\n",
      "New prompt for happy0020.png:\n",
      "The yellow emoji features a joyful expression with a gentle smile, closed eyes, and blushed cheeks, conveying warmth and happiness.\n"
     ]
    },
    {
     "name": "stderr",
     "output_type": "stream",
     "text": [
      "Processing prompts:  75%|███████▌  | 77/102 [01:16<00:22,  1.11it/s]"
     ]
    },
    {
     "name": "stdout",
     "output_type": "stream",
     "text": [
      "\n",
      "New prompt for happy0021.png:\n",
      "The emoji features a bright yellow face with heart eyes and a wide smile, expressing love, happiness, and delight.\n"
     ]
    },
    {
     "name": "stderr",
     "output_type": "stream",
     "text": [
      "Processing prompts:  76%|███████▋  | 78/102 [01:17<00:21,  1.10it/s]"
     ]
    },
    {
     "name": "stdout",
     "output_type": "stream",
     "text": [
      "\n",
      "New prompt for happy0022.png:\n",
      "A cheerful emoji with a wide smile and open hands conveys warmth, joy, friendliness, and positivity.\n"
     ]
    },
    {
     "name": "stderr",
     "output_type": "stream",
     "text": [
      "Processing prompts:  77%|███████▋  | 79/102 [01:18<00:20,  1.14it/s]"
     ]
    },
    {
     "name": "stdout",
     "output_type": "stream",
     "text": [
      "\n",
      "New prompt for happy0023.png:\n",
      "The text describes a smiling emoji with closed eyes and hand over mouth, conveying joy, playfulness, and amusement.\n"
     ]
    },
    {
     "name": "stderr",
     "output_type": "stream",
     "text": [
      "Processing prompts:  78%|███████▊  | 80/102 [01:19<00:19,  1.12it/s]"
     ]
    },
    {
     "name": "stdout",
     "output_type": "stream",
     "text": [
      "\n",
      "New prompt for happy0024.png:\n",
      "The image is a playful clown face emoji with a cheerful smile, red hair, red nose, and large blue eyes.\n"
     ]
    },
    {
     "name": "stderr",
     "output_type": "stream",
     "text": [
      "Processing prompts:  79%|███████▉  | 81/102 [01:20<00:20,  1.01it/s]"
     ]
    },
    {
     "name": "stdout",
     "output_type": "stream",
     "text": [
      "\n",
      "New prompt for happy0025.png:\n",
      "The emoji is a playful, whimsical poop with joyful eyes and a cheerful smile, creating a fun and humorous vibe.\n"
     ]
    },
    {
     "name": "stderr",
     "output_type": "stream",
     "text": [
      "Processing prompts:  80%|████████  | 82/102 [01:21<00:20,  1.01s/it]"
     ]
    },
    {
     "name": "stdout",
     "output_type": "stream",
     "text": [
      "\n",
      "New prompt for happy0026.png:\n",
      "A cheerful cat emoji with a bright yellow face, gleaming eyes, and a wide smile, exuding joy and playfulness.\n"
     ]
    },
    {
     "name": "stderr",
     "output_type": "stream",
     "text": [
      "Processing prompts:  81%|████████▏ | 83/102 [01:24<00:29,  1.56s/it]"
     ]
    },
    {
     "name": "stdout",
     "output_type": "stream",
     "text": [
      "\n",
      "New prompt for happy0027.png:\n",
      "A cartoon cat emoji with a yellow face, heart-shaped eyes, and a joyful smile, conveying happiness and excitement.\n"
     ]
    },
    {
     "name": "stderr",
     "output_type": "stream",
     "text": [
      "Processing prompts:  82%|████████▏ | 84/102 [01:25<00:28,  1.59s/it]"
     ]
    },
    {
     "name": "stdout",
     "output_type": "stream",
     "text": [
      "\n",
      "New prompt for happy0028.png:\n",
      "A cheerful cat emoji with a wide grin and bright eyes conveys joy, playfulness, and excitement through its lively expression.\n"
     ]
    },
    {
     "name": "stderr",
     "output_type": "stream",
     "text": [
      "Processing prompts:  83%|████████▎ | 85/102 [01:27<00:24,  1.45s/it]"
     ]
    },
    {
     "name": "stdout",
     "output_type": "stream",
     "text": [
      "\n",
      "New prompt for happy0029.png:\n",
      "A yellow emoji with closed eyes, blonde hair, and purple shirt, comforted by two hands above, suggesting relaxation or meditation.\n"
     ]
    },
    {
     "name": "stderr",
     "output_type": "stream",
     "text": [
      "Processing prompts:  84%|████████▍ | 86/102 [01:28<00:21,  1.36s/it]"
     ]
    },
    {
     "name": "stdout",
     "output_type": "stream",
     "text": [
      "\n",
      "New prompt for happy0030.png:\n",
      "The image shows an animated woman joyfully dancing in a flowing red dress, exuding liveliness and enthusiasm with her dynamic pose.\n"
     ]
    },
    {
     "name": "stderr",
     "output_type": "stream",
     "text": [
      "Processing prompts:  85%|████████▌ | 87/102 [01:29<00:20,  1.34s/it]"
     ]
    },
    {
     "name": "stdout",
     "output_type": "stream",
     "text": [
      "\n",
      "New prompt for happy0031.png:\n",
      "An emoji with a cheerful expression, vibrant purple suit, and a confident, enthusiastic pose, radiating happiness and positivity.\n"
     ]
    },
    {
     "name": "stderr",
     "output_type": "stream",
     "text": [
      "Processing prompts:  86%|████████▋ | 88/102 [01:30<00:16,  1.16s/it]"
     ]
    },
    {
     "name": "stdout",
     "output_type": "stream",
     "text": [
      "\n",
      "New prompt for happy0032.png:\n",
      "A vibrant sun emoji with a cheerful expression and radiant orange rays conveys warmth, positivity, and happiness.\n"
     ]
    },
    {
     "name": "stderr",
     "output_type": "stream",
     "text": [
      "Processing prompts:  87%|████████▋ | 89/102 [01:30<00:13,  1.02s/it]"
     ]
    },
    {
     "name": "stdout",
     "output_type": "stream",
     "text": [
      "\n",
      "New prompt for happy0033.png:\n",
      "The image depicts a serene, tropical island with a vibrant palm tree, golden sand, and calm blue waters, evoking relaxation.\n"
     ]
    },
    {
     "name": "stderr",
     "output_type": "stream",
     "text": [
      "Processing prompts:  88%|████████▊ | 90/102 [01:32<00:13,  1.12s/it]"
     ]
    },
    {
     "name": "stdout",
     "output_type": "stream",
     "text": [
      "\n",
      "New prompt for happy0034.png:\n",
      "The emoji shows a serene, smiling character with closed eyes and comforting hands on its head, exuding relaxation and contentment.\n"
     ]
    },
    {
     "name": "stderr",
     "output_type": "stream",
     "text": [
      "Processing prompts:  89%|████████▉ | 91/102 [01:33<00:11,  1.04s/it]"
     ]
    },
    {
     "name": "stdout",
     "output_type": "stream",
     "text": [
      "\n",
      "New prompt for happy0035.png:\n",
      "A joyful woman dances energetically in a vibrant red dress, with dynamic posture and long, dark hair, embodying freedom and happiness.\n"
     ]
    },
    {
     "name": "stderr",
     "output_type": "stream",
     "text": [
      "Processing prompts:  90%|█████████ | 92/102 [01:34<00:10,  1.05s/it]"
     ]
    },
    {
     "name": "stdout",
     "output_type": "stream",
     "text": [
      "\n",
      "New prompt for happy0036.png:\n",
      "A cheerful emoji in a purple suit with a broad smile and pointing finger, exuding joy and enthusiasm.\n"
     ]
    },
    {
     "name": "stderr",
     "output_type": "stream",
     "text": [
      "Processing prompts:  91%|█████████ | 93/102 [01:34<00:08,  1.03it/s]"
     ]
    },
    {
     "name": "stdout",
     "output_type": "stream",
     "text": [
      "\n",
      "New prompt for happy0037.png:\n",
      "A cartoonish, bright green frog emoji with large eyes and a big smile conveys joy, cheerfulness, and playfulness.\n"
     ]
    },
    {
     "name": "stderr",
     "output_type": "stream",
     "text": [
      "Processing prompts:  92%|█████████▏| 94/102 [01:35<00:07,  1.03it/s]"
     ]
    },
    {
     "name": "stdout",
     "output_type": "stream",
     "text": [
      "\n",
      "New prompt for happy0038.png:\n",
      "A cartoon monkey emoji with light brown fur, expressive eyes, and a cheerful smile, conveying playfulness and friendliness.\n"
     ]
    },
    {
     "name": "stderr",
     "output_type": "stream",
     "text": [
      "Processing prompts:  93%|█████████▎| 95/102 [01:36<00:06,  1.16it/s]"
     ]
    },
    {
     "name": "stdout",
     "output_type": "stream",
     "text": [
      "\n",
      "New prompt for happy0039.png:\n",
      "A black silhouette emoji with a neutral expression; its simplicity creates ambiguity about the expressed emotions.\n"
     ]
    },
    {
     "name": "stderr",
     "output_type": "stream",
     "text": [
      "Processing prompts:  94%|█████████▍| 96/102 [01:37<00:06,  1.02s/it]"
     ]
    },
    {
     "name": "stdout",
     "output_type": "stream",
     "text": [
      "\n",
      "New prompt for happy0040.png:\n",
      "A cheerful and festive gold gift box with a red ribbon evokes excitement, suitable for special occasions like birthdays or holidays.\n"
     ]
    },
    {
     "name": "stderr",
     "output_type": "stream",
     "text": [
      "Processing prompts:  95%|█████████▌| 97/102 [01:38<00:05,  1.01s/it]"
     ]
    },
    {
     "name": "stdout",
     "output_type": "stream",
     "text": [
      "\n",
      "New prompt for happy0041.png:\n",
      "The emoji features a sparkling pink heart, symbolizing love, joy, and positivity, with an uplifting and magical energy.\n"
     ]
    },
    {
     "name": "stderr",
     "output_type": "stream",
     "text": [
      "Processing prompts:  96%|█████████▌| 98/102 [01:40<00:04,  1.19s/it]"
     ]
    },
    {
     "name": "stdout",
     "output_type": "stream",
     "text": [
      "\n",
      "New prompt for happy0042.png:\n",
      "A vibrant rainbow emoji evokes joy and positivity, symbolizing happiness, hope, peace, and harmony with its bright, clear colors.\n"
     ]
    },
    {
     "name": "stderr",
     "output_type": "stream",
     "text": [
      "Processing prompts:  97%|█████████▋| 99/102 [01:41<00:03,  1.21s/it]"
     ]
    },
    {
     "name": "stdout",
     "output_type": "stream",
     "text": [
      "\n",
      "New prompt for happy0043.png:\n",
      "The image shows a gold \"1\" medal with a red, white, and blue ribbon, symbolizing victory, success, and pride.\n"
     ]
    },
    {
     "name": "stderr",
     "output_type": "stream",
     "text": [
      "Processing prompts:  98%|█████████▊| 100/102 [01:42<00:02,  1.16s/it]"
     ]
    },
    {
     "name": "stdout",
     "output_type": "stream",
     "text": [
      "\n",
      "New prompt for happy0044.png:\n",
      "A shiny gold trophy symbolizes achievement and joy, reflecting light prominently, suggesting celebratory moments despite lacking facial expressions.\n"
     ]
    },
    {
     "name": "stderr",
     "output_type": "stream",
     "text": [
      "Processing prompts:  99%|█████████▉| 101/102 [01:44<00:01,  1.33s/it]"
     ]
    },
    {
     "name": "stdout",
     "output_type": "stream",
     "text": [
      "\n",
      "New prompt for happy0045.png:\n",
      "The text describes a welcoming emoji with medium brown skin, friendly eyes, a slight smile, and an eager gesture in a casual outfit.\n"
     ]
    },
    {
     "name": "stderr",
     "output_type": "stream",
     "text": [
      "Processing prompts: 100%|██████████| 102/102 [01:49<00:00,  1.07s/it]"
     ]
    },
    {
     "name": "stdout",
     "output_type": "stream",
     "text": [
      "\n",
      "New prompt for happy0046.png:\n",
      "The cartoon cow emoji is cheerful, with big black eyes and a broad smile creating a warm, friendly expression.\n",
      "\n",
      "Processing complete! New file written to dataset/metadata_with_shortened_prompts.jsonl\n"
     ]
    },
    {
     "name": "stderr",
     "output_type": "stream",
     "text": [
      "\n"
     ]
    }
   ],
   "source": [
    "import json\n",
    "import os\n",
    "from openai import OpenAI\n",
    "from pathlib import Path\n",
    "from dotenv import load_dotenv\n",
    "from tqdm import tqdm\n",
    "\n",
    "# Load environment variables\n",
    "load_dotenv()\n",
    "\n",
    "# Initialize OpenAI client with API key from .env\n",
    "api_key = os.getenv('OPENAI_API_KEY')\n",
    "if not api_key:\n",
    "    raise ValueError(\"Please set OPENAI_API_KEY in your .env file\")\n",
    "client = OpenAI(api_key=api_key)\n",
    "\n",
    "input_file = 'dataset/metadata_with_new_prompts_without_last_sentence.jsonl'\n",
    "output_file = 'dataset/metadata_with_shortened_prompts.jsonl'\n",
    "\n",
    "# Count total lines\n",
    "total_lines = sum(1 for _ in open(input_file))\n",
    "\n",
    "# Process each entry\n",
    "with open(input_file, 'r') as infile, open(output_file, 'w') as outfile:\n",
    "    for line in tqdm(infile, total=total_lines, desc=\"Processing prompts\"):\n",
    "        entry = json.loads(line)\n",
    "        \n",
    "        # Get shorter summary from GPT\n",
    "        response = client.chat.completions.create(\n",
    "            model=\"gpt-4o\",\n",
    "            messages=[\n",
    "                {\n",
    "                    \"role\": \"user\", \n",
    "                    \"content\": [\n",
    "                        {\n",
    "                            \"type\": \"text\",\n",
    "                            \"text\": f\"Summarize this text in 23 words or less: {entry['prompt']}\"\n",
    "                        }\n",
    "                    ]\n",
    "                }\n",
    "            ],\n",
    "            max_tokens=50\n",
    "        )\n",
    "        \n",
    "        # Update prompt with shortened version\n",
    "        entry['prompt'] = response.choices[0].message.content\n",
    "        \n",
    "        # Print the new prompt\n",
    "        print(f\"\\nNew prompt for {entry['file_name']}:\")\n",
    "        print(entry['prompt'])\n",
    "        \n",
    "        # Write modified entry to output file\n",
    "        json.dump(entry, outfile)\n",
    "        outfile.write('\\n')\n",
    "\n",
    "print(f\"\\nProcessing complete! New file written to {output_file}\")"
   ]
  },
  {
   "cell_type": "code",
   "execution_count": null,
   "metadata": {},
   "outputs": [],
   "source": []
  }
 ],
 "metadata": {
  "kernelspec": {
   "display_name": "Python (myenv)",
   "language": "python",
   "name": "myenv"
  },
  "language_info": {
   "codemirror_mode": {
    "name": "ipython",
    "version": 3
   },
   "file_extension": ".py",
   "mimetype": "text/x-python",
   "name": "python",
   "nbconvert_exporter": "python",
   "pygments_lexer": "ipython3",
   "version": "3.9.20"
  }
 },
 "nbformat": 4,
 "nbformat_minor": 2
}
